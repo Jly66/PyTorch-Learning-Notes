{
  "cells": [
    {
      "metadata": {
        "id": "973524d8fa2837f7"
      },
      "cell_type": "markdown",
      "source": [
        "# Chapter 0: Pytorch and Deep Learning Fundamentals"
      ],
      "id": "973524d8fa2837f7"
    },
    {
      "metadata": {
        "id": "5b6ca3e80c1cb0c8"
      },
      "cell_type": "markdown",
      "source": [
        "structured data: traditional ML(e.g. XGBoost)\n",
        "deep learning: unstructured data (e.g. neural network)"
      ],
      "id": "5b6ca3e80c1cb0c8"
    },
    {
      "metadata": {
        "id": "e16a12fe10af6cca"
      },
      "cell_type": "markdown",
      "source": [
        "## Neural Network\n",
        "we have inputs(images, voices, and words), and do numerical encoding(we incode the inputs as matrix). Then choose the appropriate neural network for the problem, that is to learn representation(patterns/features/weights). So that we can get numerical representation outputs(also matrix). Finally get the human understandable outputs."
      ],
      "id": "e16a12fe10af6cca"
    },
    {
      "metadata": {
        "id": "ab219d0afea65643"
      },
      "cell_type": "markdown",
      "source": [
        "# PyTorch - Tensor!"
      ],
      "id": "ab219d0afea65643"
    },
    {
      "cell_type": "code",
      "id": "initial_id",
      "metadata": {
        "collapsed": true,
        "ExecuteTime": {
          "end_time": "2024-11-14T21:08:48.230295Z",
          "start_time": "2024-11-14T21:08:46.150438Z"
        },
        "id": "initial_id"
      },
      "source": [
        "from importlib import import_module\n",
        "\n",
        "import torch\n",
        "import numpy as np\n",
        "import pandas as pd\n",
        "import matplotlib.pyplot as plt\n",
        "from sympy.stats.sampling.sample_numpy import numpy\n",
        "from torch.fft import Tensor"
      ],
      "outputs": [],
      "execution_count": 1
    },
    {
      "metadata": {
        "ExecuteTime": {
          "end_time": "2024-11-12T21:25:58.766353Z",
          "start_time": "2024-11-12T21:25:58.756591Z"
        },
        "id": "688113d07fd35c64",
        "outputId": "3a79808d-9be9-467a-8d45-833561bb7f31",
        "colab": {
          "base_uri": "https://localhost:8080/",
          "height": 35
        }
      },
      "cell_type": "code",
      "source": [
        "# version\n",
        "torch.__version__"
      ],
      "id": "688113d07fd35c64",
      "outputs": [
        {
          "output_type": "execute_result",
          "data": {
            "text/plain": [
              "'2.5.0+cu121'"
            ],
            "application/vnd.google.colaboratory.intrinsic+json": {
              "type": "string"
            }
          },
          "metadata": {},
          "execution_count": 2
        }
      ],
      "execution_count": 2
    },
    {
      "metadata": {
        "id": "861d741bb0b0f260"
      },
      "cell_type": "markdown",
      "source": [
        "## Introduction to Tensors\n",
        "\n",
        "### Creating tensors"
      ],
      "id": "861d741bb0b0f260"
    },
    {
      "metadata": {
        "ExecuteTime": {
          "end_time": "2024-11-12T21:29:26.443326Z",
          "start_time": "2024-11-12T21:29:26.416109Z"
        },
        "id": "a312fb7240d23689",
        "outputId": "ddea995b-967a-4829-f059-0d98eafc7b58"
      },
      "cell_type": "code",
      "source": [
        "# scalar\n",
        "scalar = torch.tensor(7)\n",
        "scalar"
      ],
      "id": "a312fb7240d23689",
      "outputs": [
        {
          "data": {
            "text/plain": [
              "tensor(7)"
            ]
          },
          "execution_count": 4,
          "metadata": {},
          "output_type": "execute_result"
        }
      ],
      "execution_count": null
    },
    {
      "metadata": {
        "ExecuteTime": {
          "end_time": "2024-11-13T01:19:50.322865Z",
          "start_time": "2024-11-13T01:19:50.308805Z"
        },
        "id": "8128eeda5939afd3",
        "outputId": "55a1677a-023e-4a39-a849-129d231f2065"
      },
      "cell_type": "code",
      "source": [
        "scalar.ndim"
      ],
      "id": "8128eeda5939afd3",
      "outputs": [
        {
          "data": {
            "text/plain": [
              "0"
            ]
          },
          "execution_count": 5,
          "metadata": {},
          "output_type": "execute_result"
        }
      ],
      "execution_count": null
    },
    {
      "metadata": {
        "ExecuteTime": {
          "end_time": "2024-11-13T01:22:40.547750Z",
          "start_time": "2024-11-13T01:22:40.541415Z"
        },
        "id": "1ef6b09c2b13fcae",
        "outputId": "6789af47-2c5d-4d10-8215-379b297f9f3d"
      },
      "cell_type": "code",
      "source": [
        "# Get tensor back as Python int\n",
        "scalar.item()"
      ],
      "id": "1ef6b09c2b13fcae",
      "outputs": [
        {
          "data": {
            "text/plain": [
              "7"
            ]
          },
          "execution_count": 6,
          "metadata": {},
          "output_type": "execute_result"
        }
      ],
      "execution_count": null
    },
    {
      "metadata": {
        "ExecuteTime": {
          "end_time": "2024-11-13T01:35:40.119090Z",
          "start_time": "2024-11-13T01:35:40.103172Z"
        },
        "id": "b0129d8ecdc13516",
        "outputId": "2f428093-f25a-4db6-8f9e-ac17abfa23ec"
      },
      "cell_type": "code",
      "source": [
        "# Vector\n",
        "vector = torch.tensor([7,7])\n",
        "vector"
      ],
      "id": "b0129d8ecdc13516",
      "outputs": [
        {
          "data": {
            "text/plain": [
              "tensor([7, 7])"
            ]
          },
          "execution_count": 7,
          "metadata": {},
          "output_type": "execute_result"
        }
      ],
      "execution_count": null
    },
    {
      "metadata": {
        "ExecuteTime": {
          "end_time": "2024-11-13T01:38:07.416056Z",
          "start_time": "2024-11-13T01:38:07.410338Z"
        },
        "id": "c3ddf7ced8556a58",
        "outputId": "627d89f8-9f6d-43d6-89d2-9d3e826491ae"
      },
      "cell_type": "code",
      "source": [
        "vector.ndim"
      ],
      "id": "c3ddf7ced8556a58",
      "outputs": [
        {
          "data": {
            "text/plain": [
              "1"
            ]
          },
          "execution_count": 9,
          "metadata": {},
          "output_type": "execute_result"
        }
      ],
      "execution_count": null
    },
    {
      "metadata": {
        "ExecuteTime": {
          "end_time": "2024-11-13T01:38:08.780391Z",
          "start_time": "2024-11-13T01:38:08.776336Z"
        },
        "id": "54a1a2f0e80a082b",
        "outputId": "8aaf58cd-4325-4392-b294-9327fcc343f1"
      },
      "cell_type": "code",
      "source": [
        "vector.shape"
      ],
      "id": "54a1a2f0e80a082b",
      "outputs": [
        {
          "data": {
            "text/plain": [
              "torch.Size([2])"
            ]
          },
          "execution_count": 10,
          "metadata": {},
          "output_type": "execute_result"
        }
      ],
      "execution_count": null
    },
    {
      "metadata": {
        "ExecuteTime": {
          "end_time": "2024-11-13T01:41:26.950155Z",
          "start_time": "2024-11-13T01:41:26.943043Z"
        },
        "id": "d44ae317c44c9d6c",
        "outputId": "7a7bd7e9-0159-47d5-8a78-d04e35fb6730"
      },
      "cell_type": "code",
      "source": [
        "# Matrix\n",
        "Matrix = torch.tensor([[7,8],\n",
        "                       [9,10],\n",
        "                       [11,12]])\n",
        "Matrix"
      ],
      "id": "d44ae317c44c9d6c",
      "outputs": [
        {
          "data": {
            "text/plain": [
              "tensor([[ 7,  8],\n",
              "        [ 9, 10],\n",
              "        [11, 12]])"
            ]
          },
          "execution_count": 16,
          "metadata": {},
          "output_type": "execute_result"
        }
      ],
      "execution_count": null
    },
    {
      "metadata": {
        "ExecuteTime": {
          "end_time": "2024-11-13T01:41:28.460046Z",
          "start_time": "2024-11-13T01:41:28.455609Z"
        },
        "id": "d8271fd36b7143d6",
        "outputId": "6c614a63-246b-48f9-df4f-38289529b8cf"
      },
      "cell_type": "code",
      "source": [
        "Matrix.ndim"
      ],
      "id": "d8271fd36b7143d6",
      "outputs": [
        {
          "data": {
            "text/plain": [
              "2"
            ]
          },
          "execution_count": 17,
          "metadata": {},
          "output_type": "execute_result"
        }
      ],
      "execution_count": null
    },
    {
      "metadata": {
        "ExecuteTime": {
          "end_time": "2024-11-13T01:41:29.266825Z",
          "start_time": "2024-11-13T01:41:29.263576Z"
        },
        "id": "9f3ba7c15d00fd06",
        "outputId": "dd0b009e-edbb-40ae-a1ba-0a08071fdf55"
      },
      "cell_type": "code",
      "source": [
        "Matrix.shape"
      ],
      "id": "9f3ba7c15d00fd06",
      "outputs": [
        {
          "data": {
            "text/plain": [
              "torch.Size([3, 2])"
            ]
          },
          "execution_count": 18,
          "metadata": {},
          "output_type": "execute_result"
        }
      ],
      "execution_count": null
    },
    {
      "metadata": {
        "ExecuteTime": {
          "end_time": "2024-11-13T01:44:51.079914Z",
          "start_time": "2024-11-13T01:44:51.067885Z"
        },
        "id": "352d11d2ddbb8e0f",
        "outputId": "7be66f51-05d7-47a9-ce07-af026526b29a"
      },
      "cell_type": "code",
      "source": [
        "# Tensor\n",
        "TENSOR = torch.Tensor([[[1,2,3],\n",
        "                        [4,5,6],\n",
        "                        [7,8,9]],\n",
        "                       [[9,8,7],\n",
        "                        [6,5,4],\n",
        "                        [3,2,1]]])\n",
        "TENSOR"
      ],
      "id": "352d11d2ddbb8e0f",
      "outputs": [
        {
          "data": {
            "text/plain": [
              "tensor([[[1., 2., 3.],\n",
              "         [4., 5., 6.],\n",
              "         [7., 8., 9.]],\n",
              "\n",
              "        [[9., 8., 7.],\n",
              "         [6., 5., 4.],\n",
              "         [3., 2., 1.]]])"
            ]
          },
          "execution_count": 24,
          "metadata": {},
          "output_type": "execute_result"
        }
      ],
      "execution_count": null
    },
    {
      "metadata": {
        "ExecuteTime": {
          "end_time": "2024-11-13T01:44:54.586888Z",
          "start_time": "2024-11-13T01:44:54.582456Z"
        },
        "id": "a4b5708cc0144afb",
        "outputId": "3cbe8110-edee-4bd4-d3b7-621694c88952"
      },
      "cell_type": "code",
      "source": [
        "TENSOR.shape"
      ],
      "id": "a4b5708cc0144afb",
      "outputs": [
        {
          "data": {
            "text/plain": [
              "torch.Size([2, 3, 3])"
            ]
          },
          "execution_count": 25,
          "metadata": {},
          "output_type": "execute_result"
        }
      ],
      "execution_count": null
    },
    {
      "metadata": {
        "ExecuteTime": {
          "end_time": "2024-11-13T01:44:58.993436Z",
          "start_time": "2024-11-13T01:44:58.989215Z"
        },
        "id": "a36cd22521d81c64",
        "outputId": "960af31a-ebac-4ffe-8c84-9b6c814c198d"
      },
      "cell_type": "code",
      "source": [
        "TENSOR[1]"
      ],
      "id": "a36cd22521d81c64",
      "outputs": [
        {
          "data": {
            "text/plain": [
              "tensor([[9., 8., 7.],\n",
              "        [6., 5., 4.],\n",
              "        [3., 2., 1.]])"
            ]
          },
          "execution_count": 26,
          "metadata": {},
          "output_type": "execute_result"
        }
      ],
      "execution_count": null
    },
    {
      "metadata": {
        "id": "bfe315f0b60d646b"
      },
      "cell_type": "markdown",
      "source": [
        "### Random tensors\n",
        "\n",
        "Why random tensors?\n",
        "\n",
        "Important because the way many neural networks learn is that they start with tensors full of random numbers and then adjust random numbers to better represent the data.\n",
        "\n",
        "`start with random numbers -> look at data -> update random numbers -> look at data-> update random numbers`"
      ],
      "id": "bfe315f0b60d646b"
    },
    {
      "metadata": {
        "ExecuteTime": {
          "end_time": "2024-11-13T01:52:32.781429Z",
          "start_time": "2024-11-13T01:52:32.777375Z"
        },
        "id": "a7128d036a383c6e",
        "outputId": "b079f13e-9f6c-4e2e-d619-95e407f4f44f"
      },
      "cell_type": "code",
      "source": [
        "# Create a random tensors of size(3,4)\n",
        "random_tensor = torch.rand(3,3,3)\n",
        "random_tensor"
      ],
      "id": "a7128d036a383c6e",
      "outputs": [
        {
          "data": {
            "text/plain": [
              "tensor([[[0.2380, 0.1111, 0.3919],\n",
              "         [0.5536, 0.0226, 0.7085],\n",
              "         [0.3668, 0.8275, 0.8452]],\n",
              "\n",
              "        [[0.8176, 0.4765, 0.4623],\n",
              "         [0.0674, 0.3542, 0.8603],\n",
              "         [0.6735, 0.0159, 0.7034]],\n",
              "\n",
              "        [[0.2972, 0.0412, 0.4791],\n",
              "         [0.2350, 0.2399, 0.1777],\n",
              "         [0.0325, 0.5358, 0.0489]]])"
            ]
          },
          "execution_count": 29,
          "metadata": {},
          "output_type": "execute_result"
        }
      ],
      "execution_count": null
    },
    {
      "metadata": {
        "ExecuteTime": {
          "end_time": "2024-11-13T01:55:53.631821Z",
          "start_time": "2024-11-13T01:55:53.620508Z"
        },
        "id": "ecf74a62dab5c541",
        "outputId": "ce74bd68-c9de-4f12-9f66-76e369192323"
      },
      "cell_type": "code",
      "source": [
        "# Create a random tensor with similar shape to an image tensor\n",
        "random_image_tensor = torch.rand(size=(224,224,3)) # height, width,colour channels (R,G,B)\n",
        "random_image_tensor.shape, random_tensor.ndim"
      ],
      "id": "ecf74a62dab5c541",
      "outputs": [
        {
          "data": {
            "text/plain": [
              "(torch.Size([224, 224, 3]), 3)"
            ]
          },
          "execution_count": 30,
          "metadata": {},
          "output_type": "execute_result"
        }
      ],
      "execution_count": null
    },
    {
      "metadata": {
        "id": "30beb53e99c94a1d"
      },
      "cell_type": "markdown",
      "source": [
        "### Zeros and ones"
      ],
      "id": "30beb53e99c94a1d"
    },
    {
      "metadata": {
        "ExecuteTime": {
          "end_time": "2024-11-13T01:59:11.271570Z",
          "start_time": "2024-11-13T01:59:11.265807Z"
        },
        "id": "8b96e246f9f1c1e7",
        "outputId": "a4da991b-932c-4266-aa3e-3dfe3d35f59b"
      },
      "cell_type": "code",
      "source": [
        "# Create a tensor of all zeros\n",
        "zeros = torch.zeros(size=(3,3,4))\n",
        "zeros"
      ],
      "id": "8b96e246f9f1c1e7",
      "outputs": [
        {
          "data": {
            "text/plain": [
              "tensor([[[0., 0., 0., 0.],\n",
              "         [0., 0., 0., 0.],\n",
              "         [0., 0., 0., 0.]],\n",
              "\n",
              "        [[0., 0., 0., 0.],\n",
              "         [0., 0., 0., 0.],\n",
              "         [0., 0., 0., 0.]],\n",
              "\n",
              "        [[0., 0., 0., 0.],\n",
              "         [0., 0., 0., 0.],\n",
              "         [0., 0., 0., 0.]]])"
            ]
          },
          "execution_count": 32,
          "metadata": {},
          "output_type": "execute_result"
        }
      ],
      "execution_count": null
    },
    {
      "metadata": {
        "ExecuteTime": {
          "end_time": "2024-11-13T01:59:49.638709Z",
          "start_time": "2024-11-13T01:59:49.627426Z"
        },
        "id": "805671d6cd9150e1",
        "outputId": "d9a1d75d-de01-4370-ee61-f2c2218c44e1"
      },
      "cell_type": "code",
      "source": [
        "# Create a tensor of all ones\n",
        "ones = torch.ones(size=(3,3,3))\n",
        "ones"
      ],
      "id": "805671d6cd9150e1",
      "outputs": [
        {
          "data": {
            "text/plain": [
              "tensor([[[1., 1., 1.],\n",
              "         [1., 1., 1.],\n",
              "         [1., 1., 1.]],\n",
              "\n",
              "        [[1., 1., 1.],\n",
              "         [1., 1., 1.],\n",
              "         [1., 1., 1.]],\n",
              "\n",
              "        [[1., 1., 1.],\n",
              "         [1., 1., 1.],\n",
              "         [1., 1., 1.]]])"
            ]
          },
          "execution_count": 33,
          "metadata": {},
          "output_type": "execute_result"
        }
      ],
      "execution_count": null
    },
    {
      "metadata": {
        "id": "7deb78c27bfdfeec"
      },
      "cell_type": "markdown",
      "source": [
        "### Creating a range of tensors and tensors-like"
      ],
      "id": "7deb78c27bfdfeec"
    },
    {
      "metadata": {
        "ExecuteTime": {
          "end_time": "2024-11-13T02:04:50.056673Z",
          "start_time": "2024-11-13T02:04:50.052512Z"
        },
        "id": "7dfb84eeb048febd",
        "outputId": "c4d96342-dcf2-403e-c7c2-d0f8aa6f3878"
      },
      "cell_type": "code",
      "source": [
        "# Use torch.range and get deprecated message, use torch.arrange\n",
        "one_to_ten = torch.arange(0,11,1)\n",
        "one_to_ten"
      ],
      "id": "7dfb84eeb048febd",
      "outputs": [
        {
          "data": {
            "text/plain": [
              "tensor([ 0,  1,  2,  3,  4,  5,  6,  7,  8,  9, 10])"
            ]
          },
          "execution_count": 38,
          "metadata": {},
          "output_type": "execute_result"
        }
      ],
      "execution_count": null
    },
    {
      "metadata": {
        "ExecuteTime": {
          "end_time": "2024-11-13T02:05:04.859477Z",
          "start_time": "2024-11-13T02:05:04.854644Z"
        },
        "id": "a9a6390ea82fbdd7",
        "outputId": "ad9947b8-069b-4329-857e-76e1bce609af"
      },
      "cell_type": "code",
      "source": [
        "# Creating tensors like\n",
        "ten_zeros = torch.zeros_like(one_to_ten)\n",
        "ten_zeros"
      ],
      "id": "a9a6390ea82fbdd7",
      "outputs": [
        {
          "data": {
            "text/plain": [
              "tensor([0, 0, 0, 0, 0, 0, 0, 0, 0, 0, 0])"
            ]
          },
          "execution_count": 40,
          "metadata": {},
          "output_type": "execute_result"
        }
      ],
      "execution_count": null
    },
    {
      "metadata": {
        "id": "60838bafe4acade7"
      },
      "cell_type": "markdown",
      "source": [
        "### Tensor datatypes\n",
        "\n",
        "**Note:** Tensor datatype is one of the 3 big errors you'll run into with PyTorch & Deep Learning\n",
        "1. Tensors not right datatype\n",
        "2. Tensors not right shape\n",
        "3. Tensors not on the right device"
      ],
      "id": "60838bafe4acade7"
    },
    {
      "metadata": {
        "ExecuteTime": {
          "end_time": "2024-11-13T02:11:28.816554Z",
          "start_time": "2024-11-13T02:11:28.807508Z"
        },
        "id": "776c96586a1baf3a",
        "outputId": "05e32f58-9d77-4302-fb8e-b000ef6448d5"
      },
      "cell_type": "code",
      "source": [
        "# Float 32 tensor\n",
        "float_32_tensor = torch.tensor([3.0,6.0,9.0],\n",
        "                               dtype=None,# what datatype is the tensor (e.g. float32 or float16 )\n",
        "                               device=None,# What device is your tensors on\n",
        "                               requires_grad=False) # whether or not to track gradients with this tensors operation\n",
        "float_32_tensor"
      ],
      "id": "776c96586a1baf3a",
      "outputs": [
        {
          "data": {
            "text/plain": [
              "tensor([3., 6., 9.])"
            ]
          },
          "execution_count": 41,
          "metadata": {},
          "output_type": "execute_result"
        }
      ],
      "execution_count": null
    },
    {
      "metadata": {
        "ExecuteTime": {
          "end_time": "2024-11-13T02:16:11.427409Z",
          "start_time": "2024-11-13T02:16:11.416277Z"
        },
        "id": "a8ecb7cfa9ecd4d7",
        "outputId": "d183c60c-8c15-4891-99ec-a6e14b7ab2df"
      },
      "cell_type": "code",
      "source": [
        "float_32_tensor.dtype"
      ],
      "id": "a8ecb7cfa9ecd4d7",
      "outputs": [
        {
          "data": {
            "text/plain": [
              "torch.float32"
            ]
          },
          "execution_count": 42,
          "metadata": {},
          "output_type": "execute_result"
        }
      ],
      "execution_count": null
    },
    {
      "metadata": {
        "ExecuteTime": {
          "end_time": "2024-11-13T02:17:15.707441Z",
          "start_time": "2024-11-13T02:17:15.695654Z"
        },
        "id": "380918ac6fc09fa5",
        "outputId": "c4366296-e512-428f-b153-8c3e0587ff26"
      },
      "cell_type": "code",
      "source": [
        "float_16_tensor = float_32_tensor.type(torch.float16)\n",
        "float_16_tensor"
      ],
      "id": "380918ac6fc09fa5",
      "outputs": [
        {
          "data": {
            "text/plain": [
              "tensor([3., 6., 9.], dtype=torch.float16)"
            ]
          },
          "execution_count": 43,
          "metadata": {},
          "output_type": "execute_result"
        }
      ],
      "execution_count": null
    },
    {
      "metadata": {
        "ExecuteTime": {
          "end_time": "2024-11-13T02:20:30.906717Z",
          "start_time": "2024-11-13T02:20:30.896849Z"
        },
        "id": "625170126641052",
        "outputId": "1353aac5-e4bd-4ff3-b887-d8921bb0085b"
      },
      "cell_type": "code",
      "source": [
        "int_32_tensor = torch.tensor([3,6,9],dtype=torch.int32)\n",
        "int_32_tensor"
      ],
      "id": "625170126641052",
      "outputs": [
        {
          "data": {
            "text/plain": [
              "tensor([3, 6, 9], dtype=torch.int32)"
            ]
          },
          "execution_count": 46,
          "metadata": {},
          "output_type": "execute_result"
        }
      ],
      "execution_count": null
    },
    {
      "metadata": {
        "ExecuteTime": {
          "end_time": "2024-11-13T02:29:58.109411Z",
          "start_time": "2024-11-13T02:29:58.099744Z"
        },
        "id": "f1da229e5018449",
        "outputId": "b3999d6c-55ea-4ffe-cbc0-121608674b0a"
      },
      "cell_type": "code",
      "source": [
        "mul = float_16_tensor * int_32_tensor\n",
        "mul.dtype"
      ],
      "id": "f1da229e5018449",
      "outputs": [
        {
          "data": {
            "text/plain": [
              "torch.float16"
            ]
          },
          "execution_count": 49,
          "metadata": {},
          "output_type": "execute_result"
        }
      ],
      "execution_count": null
    },
    {
      "metadata": {
        "id": "9805a761e2381e77"
      },
      "cell_type": "markdown",
      "source": [
        "### Getting information from tensors\n",
        "1. Tensors not right datatype - to get datatype from a tensor, `tensor.dtype`\n",
        "2. Tensors not right shape - to get shape from a tensor, `tensor.shape`\n",
        "3. Tensors not on the right device - to get device from a tensor, `tensor.device`"
      ],
      "id": "9805a761e2381e77"
    },
    {
      "metadata": {
        "ExecuteTime": {
          "end_time": "2024-11-13T02:32:54.870745Z",
          "start_time": "2024-11-13T02:32:54.864460Z"
        },
        "id": "51d2f5336283ac9c",
        "outputId": "034028d0-82a2-41cf-a843-ce26e0a15cfc"
      },
      "cell_type": "code",
      "source": [
        "# Create a tensor\n",
        "some_tensor = torch.rand(3,4)\n",
        "some_tensor"
      ],
      "id": "51d2f5336283ac9c",
      "outputs": [
        {
          "data": {
            "text/plain": [
              "tensor([[0.7226, 0.2664, 0.3782, 0.8478],\n",
              "        [0.9408, 0.9261, 0.3493, 0.8799],\n",
              "        [0.5692, 0.8266, 0.9772, 0.4500]])"
            ]
          },
          "execution_count": 50,
          "metadata": {},
          "output_type": "execute_result"
        }
      ],
      "execution_count": null
    },
    {
      "metadata": {
        "ExecuteTime": {
          "end_time": "2024-11-13T03:10:51.149423Z",
          "start_time": "2024-11-13T03:10:51.097280Z"
        },
        "id": "c917785d609ea11b",
        "outputId": "3c3a73c3-6f94-431e-9aa6-57279d2ab18a"
      },
      "cell_type": "code",
      "source": [
        "# Find out details about the tensor\n",
        "print(some_tensor)\n",
        "print(f'Datatype of tensor: {some_tensor.dtype}')\n",
        "print(f'Shape of tensor: {some_tensor.shape}')\n",
        "print(f'Device tensor is on:{some_tensor.device}')\n"
      ],
      "id": "c917785d609ea11b",
      "outputs": [
        {
          "name": "stdout",
          "output_type": "stream",
          "text": [
            "tensor([[0.7226, 0.2664, 0.3782, 0.8478],\n",
            "        [0.9408, 0.9261, 0.3493, 0.8799],\n",
            "        [0.5692, 0.8266, 0.9772, 0.4500]])\n",
            "Datatype of tensor: torch.float32\n",
            "Shape of tensor: torch.Size([3, 4])\n",
            "Device tensor is on:cpu\n"
          ]
        }
      ],
      "execution_count": null
    },
    {
      "metadata": {
        "id": "4e4e8ce08daa6f76"
      },
      "cell_type": "markdown",
      "source": [
        "### Manipulating Tensors (tensor operations)\n",
        "\n",
        "Tensor operations include:\n",
        "* Addition\n",
        "* Subtraction\n",
        "* Multiplication (element-wise)\n",
        "* Division\n",
        "* Matrix multiplication\n"
      ],
      "id": "4e4e8ce08daa6f76"
    },
    {
      "metadata": {
        "ExecuteTime": {
          "end_time": "2024-11-14T19:04:04.235403Z",
          "start_time": "2024-11-14T19:04:04.218796Z"
        },
        "id": "6c21c26e0f23c18c",
        "outputId": "32d6aabd-44d2-4337-b33a-f058ef99b60f"
      },
      "cell_type": "code",
      "source": [
        "# Create a tensor and add 10\n",
        "tensor = torch.tensor([1,2,3])\n",
        "tensor + 10"
      ],
      "id": "6c21c26e0f23c18c",
      "outputs": [
        {
          "data": {
            "text/plain": [
              "tensor([11, 12, 13])"
            ]
          },
          "execution_count": 3,
          "metadata": {},
          "output_type": "execute_result"
        }
      ],
      "execution_count": null
    },
    {
      "metadata": {
        "ExecuteTime": {
          "end_time": "2024-11-13T03:16:18.959408Z",
          "start_time": "2024-11-13T03:16:18.955894Z"
        },
        "id": "3cfc9fde3f247dc3",
        "outputId": "204c674b-7592-427f-f864-82d75cc0f93b"
      },
      "cell_type": "code",
      "source": [
        "# Mul by 10\n",
        "tensor * 10"
      ],
      "id": "3cfc9fde3f247dc3",
      "outputs": [
        {
          "data": {
            "text/plain": [
              "tensor([10, 20, 30])"
            ]
          },
          "execution_count": 57,
          "metadata": {},
          "output_type": "execute_result"
        }
      ],
      "execution_count": null
    },
    {
      "metadata": {
        "ExecuteTime": {
          "end_time": "2024-11-13T03:16:54.803271Z",
          "start_time": "2024-11-13T03:16:54.796470Z"
        },
        "id": "cccb9852552d9bcd",
        "outputId": "09d7eba0-f668-4c04-d45e-496cf7e9323c"
      },
      "cell_type": "code",
      "source": [
        "# Substract 10\n",
        "tensor - 10"
      ],
      "id": "cccb9852552d9bcd",
      "outputs": [
        {
          "data": {
            "text/plain": [
              "tensor([-9, -8, -7])"
            ]
          },
          "execution_count": 58,
          "metadata": {},
          "output_type": "execute_result"
        }
      ],
      "execution_count": null
    },
    {
      "metadata": {
        "ExecuteTime": {
          "end_time": "2024-11-13T03:17:22.903377Z",
          "start_time": "2024-11-13T03:17:22.899521Z"
        },
        "id": "d6225aec784ec0b8",
        "outputId": "c405f38a-6f5b-4a48-ae94-afc72fefaec7"
      },
      "cell_type": "code",
      "source": [
        "torch.mul(tensor,10)"
      ],
      "id": "d6225aec784ec0b8",
      "outputs": [
        {
          "data": {
            "text/plain": [
              "tensor([10, 20, 30])"
            ]
          },
          "execution_count": 60,
          "metadata": {},
          "output_type": "execute_result"
        }
      ],
      "execution_count": null
    },
    {
      "metadata": {
        "ExecuteTime": {
          "end_time": "2024-11-13T03:17:40.422874Z",
          "start_time": "2024-11-13T03:17:40.418768Z"
        },
        "id": "3f3e06f2a946138e",
        "outputId": "d0148633-c9b1-4dc3-c9df-de6309ff850e"
      },
      "cell_type": "code",
      "source": [
        "torch.add(tensor,10)"
      ],
      "id": "3f3e06f2a946138e",
      "outputs": [
        {
          "data": {
            "text/plain": [
              "tensor([11, 12, 13])"
            ]
          },
          "execution_count": 61,
          "metadata": {},
          "output_type": "execute_result"
        }
      ],
      "execution_count": null
    },
    {
      "metadata": {
        "id": "f9d1e75587769739"
      },
      "cell_type": "markdown",
      "source": [
        "### Matrix multiplication\n",
        "\n",
        "two main ways of performing multiplication in neural networks and deep learning:\n",
        "\n",
        "1. Element-wise multiplication\n",
        "2. Matrix multiplication (**dot product**)\n",
        "\n",
        "\n",
        "There are two main rules that performing matrix multiplication need to satisfy:\n",
        "1. The **inner dimension** must match (矩阵乘法法则）"
      ],
      "id": "f9d1e75587769739"
    },
    {
      "metadata": {
        "ExecuteTime": {
          "end_time": "2024-11-14T03:38:37.985326Z",
          "start_time": "2024-11-14T03:38:37.982069Z"
        },
        "id": "70fd8c2e0e3fe773",
        "outputId": "b0e8128c-6aa6-44b4-faec-eb5635e97adc"
      },
      "cell_type": "code",
      "source": [
        "tensor * tensor"
      ],
      "id": "70fd8c2e0e3fe773",
      "outputs": [
        {
          "data": {
            "text/plain": [
              "tensor([1, 4, 9])"
            ]
          },
          "execution_count": 7,
          "metadata": {},
          "output_type": "execute_result"
        }
      ],
      "execution_count": null
    },
    {
      "metadata": {
        "ExecuteTime": {
          "end_time": "2024-11-14T03:39:38.672454Z",
          "start_time": "2024-11-14T03:39:38.668770Z"
        },
        "id": "a7db566f11d55a5",
        "outputId": "50bff016-d2d3-412d-d686-d767c0e3e7c7"
      },
      "cell_type": "code",
      "source": [
        "torch.matmul(tensor,tensor)"
      ],
      "id": "a7db566f11d55a5",
      "outputs": [
        {
          "data": {
            "text/plain": [
              "tensor(14)"
            ]
          },
          "execution_count": 8,
          "metadata": {},
          "output_type": "execute_result"
        }
      ],
      "execution_count": null
    },
    {
      "metadata": {
        "ExecuteTime": {
          "end_time": "2024-11-14T03:55:53.019034Z",
          "start_time": "2024-11-14T03:55:53.013159Z"
        },
        "id": "66298b5a25293777",
        "outputId": "00034ae9-228e-452b-905c-d57f3da325b1"
      },
      "cell_type": "code",
      "source": [
        "torch.matmul(torch.rand(3,2),torch.rand(2,3))"
      ],
      "id": "66298b5a25293777",
      "outputs": [
        {
          "data": {
            "text/plain": [
              "tensor([[0.7094, 0.8788, 1.0695],\n",
              "        [0.6721, 0.6508, 0.7817],\n",
              "        [0.6833, 0.7055, 0.8506]])"
            ]
          },
          "execution_count": 9,
          "metadata": {},
          "output_type": "execute_result"
        }
      ],
      "execution_count": null
    },
    {
      "metadata": {
        "ExecuteTime": {
          "end_time": "2024-11-14T19:17:26.505481Z",
          "start_time": "2024-11-14T19:17:26.502855Z"
        },
        "id": "17c24b0e9256735e",
        "outputId": "a46f0677-994d-40bf-8aa4-bca3284f817b"
      },
      "cell_type": "code",
      "source": [
        "tensor_A = torch.tensor([[1,2],\n",
        "                         [3,4],\n",
        "                         [5,6]])\n",
        "tensor_B = torch.tensor([[7,10],\n",
        "                        [8,11],\n",
        "                        [9,12]])\n",
        "torch.matmul(tensor_A,tensor_B.T).shape\n"
      ],
      "id": "17c24b0e9256735e",
      "outputs": [
        {
          "data": {
            "text/plain": [
              "torch.Size([3, 3])"
            ]
          },
          "execution_count": 7,
          "metadata": {},
          "output_type": "execute_result"
        }
      ],
      "execution_count": null
    },
    {
      "metadata": {
        "id": "5a47558f6c467571"
      },
      "cell_type": "markdown",
      "source": [
        "### Finding the min, max, mean, sum (tensor aggregation)"
      ],
      "id": "5a47558f6c467571"
    },
    {
      "metadata": {
        "ExecuteTime": {
          "end_time": "2024-11-14T19:21:19.950331Z",
          "start_time": "2024-11-14T19:21:19.947181Z"
        },
        "id": "75fd095dfe0a6523",
        "outputId": "37495971-7eb8-4b59-8219-1ac5c1040bce"
      },
      "cell_type": "code",
      "source": [
        "x= torch.arange(0,100,10)\n",
        "x, x.dtype"
      ],
      "id": "75fd095dfe0a6523",
      "outputs": [
        {
          "data": {
            "text/plain": [
              "(tensor([ 0, 10, 20, 30, 40, 50, 60, 70, 80, 90]), torch.int64)"
            ]
          },
          "execution_count": 11,
          "metadata": {},
          "output_type": "execute_result"
        }
      ],
      "execution_count": null
    },
    {
      "metadata": {
        "ExecuteTime": {
          "end_time": "2024-11-14T19:20:32.549846Z",
          "start_time": "2024-11-14T19:20:32.544167Z"
        },
        "id": "f59cac51add8b383",
        "outputId": "6ee5eb96-1dd9-467e-9edd-20a6fd6252c9"
      },
      "cell_type": "code",
      "source": [
        "torch.min(x)"
      ],
      "id": "f59cac51add8b383",
      "outputs": [
        {
          "data": {
            "text/plain": [
              "tensor(0)"
            ]
          },
          "execution_count": 9,
          "metadata": {},
          "output_type": "execute_result"
        }
      ],
      "execution_count": null
    },
    {
      "metadata": {
        "ExecuteTime": {
          "end_time": "2024-11-14T19:20:43.625684Z",
          "start_time": "2024-11-14T19:20:43.622091Z"
        },
        "id": "11f2d3ac682a2369",
        "outputId": "43250157-1c65-416c-8eb0-b162e3a533e5"
      },
      "cell_type": "code",
      "source": [
        "torch.max(x)"
      ],
      "id": "11f2d3ac682a2369",
      "outputs": [
        {
          "data": {
            "text/plain": [
              "tensor(90)"
            ]
          },
          "execution_count": 10,
          "metadata": {},
          "output_type": "execute_result"
        }
      ],
      "execution_count": null
    },
    {
      "metadata": {
        "ExecuteTime": {
          "end_time": "2024-11-14T19:22:33.665508Z",
          "start_time": "2024-11-14T19:22:33.648799Z"
        },
        "id": "23af93b76c952d8d",
        "outputId": "5500f4af-3c5f-41bc-aa6c-8d50dfc9f42e"
      },
      "cell_type": "code",
      "source": [
        "# the torch.mean() function requires a tensor of float32 datatype to work\n",
        "torch.mean(x.type(torch.float32))"
      ],
      "id": "23af93b76c952d8d",
      "outputs": [
        {
          "data": {
            "text/plain": [
              "tensor(45.)"
            ]
          },
          "execution_count": 12,
          "metadata": {},
          "output_type": "execute_result"
        }
      ],
      "execution_count": null
    },
    {
      "metadata": {
        "ExecuteTime": {
          "end_time": "2024-11-14T19:23:53.586062Z",
          "start_time": "2024-11-14T19:23:53.580974Z"
        },
        "id": "19fdfe1ed21bba02",
        "outputId": "9c7df33e-0ee8-4eef-a15f-3ee33203aa02"
      },
      "cell_type": "code",
      "source": [
        "torch.sum(x)"
      ],
      "id": "19fdfe1ed21bba02",
      "outputs": [
        {
          "data": {
            "text/plain": [
              "tensor(450)"
            ]
          },
          "execution_count": 13,
          "metadata": {},
          "output_type": "execute_result"
        }
      ],
      "execution_count": null
    },
    {
      "metadata": {
        "ExecuteTime": {
          "end_time": "2024-11-14T19:26:29.205149Z",
          "start_time": "2024-11-14T19:26:29.201783Z"
        },
        "id": "43dfdd3a18b31ebd",
        "outputId": "b0d61683-673a-4bee-9551-8928e4f03c1d"
      },
      "cell_type": "code",
      "source": [
        "# Find the position\n",
        "x.argmin(), x.argmax()"
      ],
      "id": "43dfdd3a18b31ebd",
      "outputs": [
        {
          "data": {
            "text/plain": [
              "(tensor(0), tensor(9))"
            ]
          },
          "execution_count": 16,
          "metadata": {},
          "output_type": "execute_result"
        }
      ],
      "execution_count": null
    },
    {
      "metadata": {
        "ExecuteTime": {
          "end_time": "2024-11-14T19:27:15.490816Z",
          "start_time": "2024-11-14T19:27:15.488041Z"
        },
        "id": "37b8b6d6ecd2e122",
        "outputId": "cbf0437c-d898-42b0-de35-0b73baa64d30"
      },
      "cell_type": "code",
      "source": [
        "x[0],x[9]"
      ],
      "id": "37b8b6d6ecd2e122",
      "outputs": [
        {
          "data": {
            "text/plain": [
              "(tensor(0), tensor(90))"
            ]
          },
          "execution_count": 17,
          "metadata": {},
          "output_type": "execute_result"
        }
      ],
      "execution_count": null
    },
    {
      "metadata": {
        "ExecuteTime": {
          "end_time": "2024-11-14T19:28:08.090659Z",
          "start_time": "2024-11-14T19:28:08.087292Z"
        },
        "id": "43d17f37b8e07bb2",
        "outputId": "aa22ecc1-eb83-4d6c-e3c1-5f32c2a4d5be"
      },
      "cell_type": "code",
      "source": [],
      "id": "43d17f37b8e07bb2",
      "outputs": [
        {
          "data": {
            "text/plain": [
              "tensor([ 0, 10, 20, 30, 40, 50, 60, 70, 80, 90])"
            ]
          },
          "execution_count": 18,
          "metadata": {},
          "output_type": "execute_result"
        }
      ],
      "execution_count": null
    },
    {
      "metadata": {
        "id": "d47df42dd0b16b46"
      },
      "cell_type": "markdown",
      "source": [
        "### Reshaping, stacking, squeezing and unsqueezing tensors\n",
        "\n",
        "* Reshaping - reshapes an input tensor to a define shape\n",
        "* View - Return a view of an input tensor of certain shape but keep the same memory as the original tensor\n",
        "* Stacking - combine multiple tensors on top of each other (vstack) or side by side (hstack)\n",
        "* Squeeze - removes all `1` dimensions from a tensor\n",
        "* Unsqueeze - add a `1` dimension to a target tensor\n",
        "* Permute - Return a view of the input with dimensions permuted (swapped) in a certain way\n",
        "\n"
      ],
      "id": "d47df42dd0b16b46"
    },
    {
      "metadata": {
        "ExecuteTime": {
          "end_time": "2024-11-14T20:22:19.563028Z",
          "start_time": "2024-11-14T20:22:19.558494Z"
        },
        "id": "1b78e5e106122d7d",
        "outputId": "c2376625-948f-4afb-ae4d-558217e2130a"
      },
      "cell_type": "code",
      "source": [
        "x = torch.arange(1,10)\n",
        "x, x.shape"
      ],
      "id": "1b78e5e106122d7d",
      "outputs": [
        {
          "data": {
            "text/plain": [
              "(tensor([1, 2, 3, 4, 5, 6, 7, 8, 9]), torch.Size([9]))"
            ]
          },
          "execution_count": 51,
          "metadata": {},
          "output_type": "execute_result"
        }
      ],
      "execution_count": null
    },
    {
      "metadata": {
        "ExecuteTime": {
          "end_time": "2024-11-14T20:22:25.385426Z",
          "start_time": "2024-11-14T20:22:25.382172Z"
        },
        "id": "63a276b6cd3bb13c",
        "outputId": "24384a78-f2e4-4815-932c-194d562638cf"
      },
      "cell_type": "code",
      "source": [
        "# Add an extra dimension\n",
        "x_reshape = x.reshape(1,9)\n",
        "x_reshape"
      ],
      "id": "63a276b6cd3bb13c",
      "outputs": [
        {
          "data": {
            "text/plain": [
              "tensor([[1, 2, 3, 4, 5, 6, 7, 8, 9]])"
            ]
          },
          "execution_count": 53,
          "metadata": {},
          "output_type": "execute_result"
        }
      ],
      "execution_count": null
    },
    {
      "metadata": {
        "ExecuteTime": {
          "end_time": "2024-11-14T19:46:45.838165Z",
          "start_time": "2024-11-14T19:46:45.834823Z"
        },
        "id": "c59de7784dc5abd0",
        "outputId": "55e58fb0-6b7e-467e-aa72-e07ac2b93162"
      },
      "cell_type": "code",
      "source": [
        "# Change the view\n",
        "z = x.view(1,10)\n",
        "z"
      ],
      "id": "c59de7784dc5abd0",
      "outputs": [
        {
          "data": {
            "text/plain": [
              "tensor([[1, 2, 3, 4, 5, 6, 7, 8, 9]])"
            ]
          },
          "execution_count": 34,
          "metadata": {},
          "output_type": "execute_result"
        }
      ],
      "execution_count": null
    },
    {
      "metadata": {
        "ExecuteTime": {
          "end_time": "2024-11-14T19:48:03.938696Z",
          "start_time": "2024-11-14T19:48:03.933368Z"
        },
        "id": "d9b1ebab5cf381c9",
        "outputId": "35dda7a2-01ff-40e6-e69e-9ccc7f263d09"
      },
      "cell_type": "code",
      "source": [
        "# Changing z changes x (because a view of a tensor shares the same memory as the original ones\n",
        "z[:,0]=5\n",
        "z,x"
      ],
      "id": "d9b1ebab5cf381c9",
      "outputs": [
        {
          "data": {
            "text/plain": [
              "(tensor([[5, 2, 3, 4, 5, 6, 7, 8, 9]]), tensor([5, 2, 3, 4, 5, 6, 7, 8, 9]))"
            ]
          },
          "execution_count": 35,
          "metadata": {},
          "output_type": "execute_result"
        }
      ],
      "execution_count": null
    },
    {
      "metadata": {
        "ExecuteTime": {
          "end_time": "2024-11-14T19:55:14.754066Z",
          "start_time": "2024-11-14T19:55:14.751268Z"
        },
        "id": "21c4b16827093e87",
        "outputId": "b2bdec55-c619-46ca-bb19-cc67b39dbbe3"
      },
      "cell_type": "code",
      "source": [
        "# Stack tensors on top of each other\n",
        "x_stacked_dim0 = torch.stack([x,x,x,x], dim=0)\n",
        "x_stacked_dim1 = torch.stack([x,x,x,x],dim=1)\n",
        "x_stacked_dim0,x_stacked_dim1"
      ],
      "id": "21c4b16827093e87",
      "outputs": [
        {
          "data": {
            "text/plain": [
              "(tensor([[5, 2, 3, 4, 5, 6, 7, 8, 9],\n",
              "         [5, 2, 3, 4, 5, 6, 7, 8, 9],\n",
              "         [5, 2, 3, 4, 5, 6, 7, 8, 9],\n",
              "         [5, 2, 3, 4, 5, 6, 7, 8, 9]]),\n",
              " tensor([[5, 5, 5, 5],\n",
              "         [2, 2, 2, 2],\n",
              "         [3, 3, 3, 3],\n",
              "         [4, 4, 4, 4],\n",
              "         [5, 5, 5, 5],\n",
              "         [6, 6, 6, 6],\n",
              "         [7, 7, 7, 7],\n",
              "         [8, 8, 8, 8],\n",
              "         [9, 9, 9, 9]]))"
            ]
          },
          "execution_count": 42,
          "metadata": {},
          "output_type": "execute_result"
        }
      ],
      "execution_count": null
    },
    {
      "metadata": {
        "ExecuteTime": {
          "end_time": "2024-11-14T20:27:04.327011Z",
          "start_time": "2024-11-14T20:27:04.325011Z"
        },
        "id": "2a87f8572e99da7b"
      },
      "cell_type": "code",
      "source": [
        "x_squeeze = x_reshape.squeeze()"
      ],
      "id": "2a87f8572e99da7b",
      "outputs": [],
      "execution_count": null
    },
    {
      "metadata": {
        "ExecuteTime": {
          "end_time": "2024-11-14T20:26:47.451172Z",
          "start_time": "2024-11-14T20:26:47.448784Z"
        },
        "id": "892dc3f7e5d6ba7d",
        "outputId": "288d7147-8394-489a-be0e-2da77804770c"
      },
      "cell_type": "code",
      "source": [
        "x_unsqueeze = x_squeeze.unsqueeze(dim=0)\n",
        "x_unsqueeze"
      ],
      "id": "892dc3f7e5d6ba7d",
      "outputs": [
        {
          "data": {
            "text/plain": [
              "tensor([[1, 2, 3, 4, 5, 6, 7, 8, 9]])"
            ]
          },
          "execution_count": 63,
          "metadata": {},
          "output_type": "execute_result"
        }
      ],
      "execution_count": null
    },
    {
      "metadata": {
        "ExecuteTime": {
          "end_time": "2024-11-14T20:31:13.304368Z",
          "start_time": "2024-11-14T20:31:13.300134Z"
        },
        "id": "1cfc65bc2cec7718",
        "outputId": "00e44078-a3dd-4b09-d3f6-df106ad5aec4"
      },
      "cell_type": "code",
      "source": [
        "x_original = torch.rand(size=(224,224,3)) # [height, width, color_channels]\n",
        "x_permuted = x_original.permute(2,0,1) # [color_channels, height, width]\n",
        "x_permuted.shape"
      ],
      "id": "1cfc65bc2cec7718",
      "outputs": [
        {
          "data": {
            "text/plain": [
              "torch.Size([3, 224, 224])"
            ]
          },
          "execution_count": 66,
          "metadata": {},
          "output_type": "execute_result"
        }
      ],
      "execution_count": null
    },
    {
      "metadata": {
        "id": "eb6318b958d5d169"
      },
      "cell_type": "markdown",
      "source": [
        "### Indexing (selecting data from tensors)\n",
        "Indexing with PyTorch is similar to indexing with Numpy"
      ],
      "id": "eb6318b958d5d169"
    },
    {
      "metadata": {
        "ExecuteTime": {
          "end_time": "2024-11-14T20:35:19.718315Z",
          "start_time": "2024-11-14T20:35:19.713930Z"
        },
        "id": "90de37acbb14283f",
        "outputId": "b03e8edd-729f-43bb-a3ef-ef548d6320ac"
      },
      "cell_type": "code",
      "source": [
        "x = torch.arange(1,10).reshape(1,3,3)\n",
        "x"
      ],
      "id": "90de37acbb14283f",
      "outputs": [
        {
          "data": {
            "text/plain": [
              "tensor([[[1, 2, 3],\n",
              "         [4, 5, 6],\n",
              "         [7, 8, 9]]])"
            ]
          },
          "execution_count": 70,
          "metadata": {},
          "output_type": "execute_result"
        }
      ],
      "execution_count": null
    },
    {
      "metadata": {
        "ExecuteTime": {
          "end_time": "2024-11-14T20:37:32.353549Z",
          "start_time": "2024-11-14T20:37:32.349310Z"
        },
        "id": "bf4810ae0b9f075e",
        "outputId": "804adc6b-0d5f-4e83-e7cf-62d774cdd73e"
      },
      "cell_type": "code",
      "source": [
        "x[0][1][1]"
      ],
      "id": "bf4810ae0b9f075e",
      "outputs": [
        {
          "data": {
            "text/plain": [
              "tensor(5)"
            ]
          },
          "execution_count": 76,
          "metadata": {},
          "output_type": "execute_result"
        }
      ],
      "execution_count": null
    },
    {
      "metadata": {
        "ExecuteTime": {
          "end_time": "2024-11-14T20:38:44.834713Z",
          "start_time": "2024-11-14T20:38:44.830767Z"
        },
        "id": "e8b18eae9e421423",
        "outputId": "47a11cde-faea-4a68-cb26-0510c8e76bec"
      },
      "cell_type": "code",
      "source": [
        "# Get all values of oth and 1st dimensions but only index 1 of 2nd deminsion\n",
        "x[:,:,1]"
      ],
      "id": "e8b18eae9e421423",
      "outputs": [
        {
          "data": {
            "text/plain": [
              "tensor([[2, 5, 8]])"
            ]
          },
          "execution_count": 78,
          "metadata": {},
          "output_type": "execute_result"
        }
      ],
      "execution_count": null
    },
    {
      "metadata": {
        "ExecuteTime": {
          "end_time": "2024-11-14T20:40:36.446188Z",
          "start_time": "2024-11-14T20:40:36.440663Z"
        },
        "id": "466b3be9ddac5b3c",
        "outputId": "64b9264d-180b-479e-9104-536a82633a79"
      },
      "cell_type": "code",
      "source": [
        "x[0,0,:]"
      ],
      "id": "466b3be9ddac5b3c",
      "outputs": [
        {
          "data": {
            "text/plain": [
              "tensor([1, 2, 3])"
            ]
          },
          "execution_count": 80,
          "metadata": {},
          "output_type": "execute_result"
        }
      ],
      "execution_count": null
    },
    {
      "metadata": {
        "ExecuteTime": {
          "end_time": "2024-11-14T20:47:30.333132Z",
          "start_time": "2024-11-14T20:47:30.328428Z"
        },
        "id": "b9da1bfae4bfe940",
        "outputId": "b77c5278-0aee-493f-bc19-f0240eb8440a"
      },
      "cell_type": "code",
      "source": [
        "# Index on x to return 9\n",
        "print(x[:,2,2])\n",
        "\n",
        "# Index on x to return 3,6,9\n",
        "print(x[:,:,2])"
      ],
      "id": "b9da1bfae4bfe940",
      "outputs": [
        {
          "name": "stdout",
          "output_type": "stream",
          "text": [
            "tensor([9])\n",
            "tensor([[3, 6, 9]])\n"
          ]
        }
      ],
      "execution_count": null
    },
    {
      "metadata": {
        "ExecuteTime": {
          "end_time": "2024-11-14T20:41:53.326302Z",
          "start_time": "2024-11-14T20:41:53.322333Z"
        },
        "id": "5b6d5a57671041ae",
        "outputId": "e6b3923c-c860-4ffb-e163-57bf0baf0179"
      },
      "cell_type": "code",
      "source": [
        "x"
      ],
      "id": "5b6d5a57671041ae",
      "outputs": [
        {
          "data": {
            "text/plain": [
              "tensor([[[1, 2, 3],\n",
              "         [4, 5, 6],\n",
              "         [7, 8, 9]]])"
            ]
          },
          "execution_count": 81,
          "metadata": {},
          "output_type": "execute_result"
        }
      ],
      "execution_count": null
    },
    {
      "metadata": {
        "id": "c4f073f5d9adb076"
      },
      "cell_type": "markdown",
      "source": [
        "### PyTorch tensors & Numpy\n",
        "\n",
        "* Data in Numpy, want in PyTorch tensor -> `torch.from_numpy(ndarray)`\n",
        "* PyTorch tensor -> Nmpy -> `torch.Tensor.numpy()`\n",
        "\n",
        "PyTorch reflects numpy's default datatype of float64 unless specified otherwise"
      ],
      "id": "c4f073f5d9adb076"
    },
    {
      "metadata": {
        "ExecuteTime": {
          "end_time": "2024-11-14T21:12:30.362154Z",
          "start_time": "2024-11-14T21:12:30.358184Z"
        },
        "id": "d2c12d53d0afdbbd",
        "outputId": "dda37a44-d430-4887-cdb1-b23bfb8d1900"
      },
      "cell_type": "code",
      "source": [
        "# Nmpy array to tensor\n",
        "import torch\n",
        "import numpy as np\n",
        "\n",
        "array = np.arange(1.0,8.0)\n",
        "tensor = torch.from_numpy(array)\n",
        "array, tensor"
      ],
      "id": "d2c12d53d0afdbbd",
      "outputs": [
        {
          "data": {
            "text/plain": [
              "(array([1., 2., 3., 4., 5., 6., 7.]),\n",
              " tensor([1., 2., 3., 4., 5., 6., 7.], dtype=torch.float64))"
            ]
          },
          "execution_count": 5,
          "metadata": {},
          "output_type": "execute_result"
        }
      ],
      "execution_count": null
    },
    {
      "metadata": {
        "ExecuteTime": {
          "end_time": "2024-11-14T21:13:49.430301Z",
          "start_time": "2024-11-14T21:13:49.426015Z"
        },
        "id": "1a6a2e8937cd816b",
        "outputId": "9d9d6207-b1fe-402e-9ade-f5e5f5255b00"
      },
      "cell_type": "code",
      "source": [
        "# Change the value of array, what will this do to 'tensor'?\n",
        "array = array +1\n",
        "array, tensor"
      ],
      "id": "1a6a2e8937cd816b",
      "outputs": [
        {
          "data": {
            "text/plain": [
              "(array([2., 3., 4., 5., 6., 7., 8.]),\n",
              " tensor([1., 2., 3., 4., 5., 6., 7.], dtype=torch.float64))"
            ]
          },
          "execution_count": 6,
          "metadata": {},
          "output_type": "execute_result"
        }
      ],
      "execution_count": null
    },
    {
      "metadata": {
        "ExecuteTime": {
          "end_time": "2024-11-14T21:15:34.054362Z",
          "start_time": "2024-11-14T21:15:34.050727Z"
        },
        "id": "5b8c1483a5f98aa6",
        "outputId": "e968fe81-788c-47d7-ea62-bb66247a30c5"
      },
      "cell_type": "code",
      "source": [
        "# Tensor to NumPy array\n",
        "tensor = torch.ones(7)\n",
        "numpy_tensor = tensor.numpy()\n",
        "tensor, numpy_tensor"
      ],
      "id": "5b8c1483a5f98aa6",
      "outputs": [
        {
          "data": {
            "text/plain": [
              "(tensor([1., 1., 1., 1., 1., 1., 1.]),\n",
              " array([1., 1., 1., 1., 1., 1., 1.], dtype=float32))"
            ]
          },
          "execution_count": 8,
          "metadata": {},
          "output_type": "execute_result"
        }
      ],
      "execution_count": null
    },
    {
      "metadata": {
        "ExecuteTime": {
          "end_time": "2024-11-14T21:16:19.422796Z",
          "start_time": "2024-11-14T21:16:19.418684Z"
        },
        "id": "a7c3d9e7c81a2a5f",
        "outputId": "3e0a1c08-f2fe-4749-ceec-4647de8768d0"
      },
      "cell_type": "code",
      "source": [
        "tensor = tensor + 1\n",
        "tensor, numpy_tensor"
      ],
      "id": "a7c3d9e7c81a2a5f",
      "outputs": [
        {
          "data": {
            "text/plain": [
              "(tensor([2., 2., 2., 2., 2., 2., 2.]),\n",
              " array([1., 1., 1., 1., 1., 1., 1.], dtype=float32))"
            ]
          },
          "execution_count": 9,
          "metadata": {},
          "output_type": "execute_result"
        }
      ],
      "execution_count": null
    },
    {
      "metadata": {
        "id": "bded6cc3dbd72d1a"
      },
      "cell_type": "markdown",
      "source": [
        "### Reproduceility (trying to take random out of random)\n",
        "\n",
        "**In short, how a neural network learns:**\n",
        "\n",
        "`start with random numbers -> tensor operations -> update random numbers to try and make them better representations of the data -> again -> again -> again...`\n",
        "\n",
        "To reduce the randomness in neural networks and PyTorch comes the concept of a **random seed**.\n",
        "\n",
        "Essentially what the random seed does is \"flavour\" the randomness."
      ],
      "id": "bded6cc3dbd72d1a"
    },
    {
      "metadata": {
        "ExecuteTime": {
          "end_time": "2024-11-14T21:24:10.290087Z",
          "start_time": "2024-11-14T21:24:10.286070Z"
        },
        "id": "9961b9bd0f23eced",
        "outputId": "9a37ca1f-758a-48c1-98d3-fc99a7a997a5"
      },
      "cell_type": "code",
      "source": [
        "# Create two random tensors\n",
        "random_tensor_A = torch.rand(3,4)\n",
        "random_tensor_B = torch.rand(3,4)\n",
        "\n",
        "print(random_tensor_A)\n",
        "print(random_tensor_B)\n",
        "print(random_tensor_A == random_tensor_B)"
      ],
      "id": "9961b9bd0f23eced",
      "outputs": [
        {
          "name": "stdout",
          "output_type": "stream",
          "text": [
            "tensor([[0.2460, 0.6912, 0.6333, 0.8919],\n",
            "        [0.4169, 0.4175, 0.1030, 0.2778],\n",
            "        [0.9591, 0.3329, 0.8924, 0.8304]])\n",
            "tensor([[0.1377, 0.0021, 0.2686, 0.5654],\n",
            "        [0.9372, 0.0967, 0.9814, 0.7508],\n",
            "        [0.2319, 0.6646, 0.6981, 0.0296]])\n",
            "tensor([[False, False, False, False],\n",
            "        [False, False, False, False],\n",
            "        [False, False, False, False]])\n"
          ]
        }
      ],
      "execution_count": null
    },
    {
      "metadata": {
        "ExecuteTime": {
          "end_time": "2024-11-14T21:31:58.647097Z",
          "start_time": "2024-11-14T21:31:58.642188Z"
        },
        "id": "e838eb5e3343e44",
        "outputId": "26866f5a-a243-48f8-8acc-1f3ec35a3934"
      },
      "cell_type": "code",
      "source": [
        "# Let's make some random but reproducible tensors\n",
        "\n",
        "# Set the random seed\n",
        "RANDOM_SEED = 42\n",
        "torch.manual_seed(RANDOM_SEED)\n",
        "random_tensor_C = torch.rand(3,4)\n",
        "\n",
        "torch.manual_seed(RANDOM_SEED)\n",
        "random_tensor_D = torch.rand(3,4)\n",
        "\n",
        "print(random_tensor_C)\n",
        "print(random_tensor_D)\n",
        "print(random_tensor_C == random_tensor_D)"
      ],
      "id": "e838eb5e3343e44",
      "outputs": [
        {
          "name": "stdout",
          "output_type": "stream",
          "text": [
            "tensor([[0.8823, 0.9150, 0.3829, 0.9593],\n",
            "        [0.3904, 0.6009, 0.2566, 0.7936],\n",
            "        [0.9408, 0.1332, 0.9346, 0.5936]])\n",
            "tensor([[0.8823, 0.9150, 0.3829, 0.9593],\n",
            "        [0.3904, 0.6009, 0.2566, 0.7936],\n",
            "        [0.9408, 0.1332, 0.9346, 0.5936]])\n",
            "tensor([[True, True, True, True],\n",
            "        [True, True, True, True],\n",
            "        [True, True, True, True]])\n"
          ]
        }
      ],
      "execution_count": null
    },
    {
      "metadata": {
        "id": "f557c04a495e34db"
      },
      "cell_type": "markdown",
      "source": [
        "## Running tensors and PyTorch objects on the GPIs (and making faster computations)\n",
        "\n",
        "GPU = faster computation on numbers, thanks to CUDA + NVIDIA hardware + pyTorch working behind the screnes to make everything hunky dory(good)."
      ],
      "id": "f557c04a495e34db"
    },
    {
      "metadata": {
        "id": "5f560e17220a65ff"
      },
      "cell_type": "markdown",
      "source": [
        "## 1. Getting a GPU\n",
        "\n",
        "1. Easiest - Use Google Colab for a free GPU\n",
        "2. Use your own GPU - takes a litle bit of setup and requires the investment of purchasing a GPU\n",
        "3. Use cloud computing - GCP, AWS, Azure, these services allow you to rent computers on the cloud and access them"
      ],
      "id": "5f560e17220a65ff"
    },
    {
      "metadata": {
        "id": "ed3c76914fd94f28"
      },
      "cell_type": "markdown",
      "source": [
        "## 2. Check or GPU acccess with PyTorch"
      ],
      "id": "ed3c76914fd94f28"
    },
    {
      "metadata": {
        "ExecuteTime": {
          "end_time": "2024-11-14T21:46:39.102367Z",
          "start_time": "2024-11-14T21:46:39.099328Z"
        },
        "id": "1cb431fed74bc9dd",
        "outputId": "2570a558-18b4-4778-df65-09b147d2a683",
        "colab": {
          "base_uri": "https://localhost:8080/"
        }
      },
      "cell_type": "code",
      "source": [
        "# Check for GPU access with PyTorch\n",
        "torch.cuda.is_available()"
      ],
      "id": "1cb431fed74bc9dd",
      "outputs": [
        {
          "output_type": "execute_result",
          "data": {
            "text/plain": [
              "True"
            ]
          },
          "metadata": {},
          "execution_count": 3
        }
      ],
      "execution_count": 3
    },
    {
      "metadata": {
        "id": "81ca85257d3fc611",
        "outputId": "bca76947-4915-432d-c3b2-183caadf3f2d",
        "colab": {
          "base_uri": "https://localhost:8080/",
          "height": 35
        }
      },
      "cell_type": "code",
      "outputs": [
        {
          "output_type": "execute_result",
          "data": {
            "text/plain": [
              "'cuda'"
            ],
            "application/vnd.google.colaboratory.intrinsic+json": {
              "type": "string"
            }
          },
          "metadata": {},
          "execution_count": 4
        }
      ],
      "execution_count": 4,
      "source": [
        "# Setup device agnostic code\n",
        "device = 'cuda' if torch.cuda.is_available() else 'cpu'\n",
        "device"
      ],
      "id": "81ca85257d3fc611"
    },
    {
      "cell_type": "code",
      "source": [
        "# Count number of devices\n",
        "torch.cuda.device_count()"
      ],
      "metadata": {
        "id": "lGNOq8kDqhQk",
        "outputId": "c0c4d62c-3028-4c44-8582-4abeb1002bd2",
        "colab": {
          "base_uri": "https://localhost:8080/"
        }
      },
      "id": "lGNOq8kDqhQk",
      "execution_count": 5,
      "outputs": [
        {
          "output_type": "execute_result",
          "data": {
            "text/plain": [
              "1"
            ]
          },
          "metadata": {},
          "execution_count": 5
        }
      ]
    },
    {
      "cell_type": "markdown",
      "source": [
        "## 3. Putting tensors (and models) on GPU\n",
        "\n",
        "The reason is because using a GPU results in faster computations."
      ],
      "metadata": {
        "id": "Rsc-OamJrLJF"
      },
      "id": "Rsc-OamJrLJF"
    },
    {
      "cell_type": "code",
      "source": [
        "# Create a tensor (default on CPU)\n",
        "tensor = torch.tensor([1,2,3])\n",
        "\n",
        "# Tensor not on GPU\n",
        "print(tensor, tensor.device)"
      ],
      "metadata": {
        "id": "zwHxel-PqqJ7",
        "outputId": "1930dea3-c838-4731-909e-64348e94e3be",
        "colab": {
          "base_uri": "https://localhost:8080/"
        }
      },
      "id": "zwHxel-PqqJ7",
      "execution_count": 7,
      "outputs": [
        {
          "output_type": "stream",
          "name": "stdout",
          "text": [
            "tensor([1, 2, 3]) cpu\n"
          ]
        }
      ]
    },
    {
      "cell_type": "code",
      "source": [
        "# Move tensor to GPU (if available)\n",
        "tensor_on_gpu = tensor.to(device)\n",
        "tensor_on_gpu"
      ],
      "metadata": {
        "id": "6gF_1RKgrU6r",
        "outputId": "a3c17d47-928a-4e39-8b66-4aa248121038",
        "colab": {
          "base_uri": "https://localhost:8080/"
        }
      },
      "id": "6gF_1RKgrU6r",
      "execution_count": 8,
      "outputs": [
        {
          "output_type": "execute_result",
          "data": {
            "text/plain": [
              "tensor([1, 2, 3], device='cuda:0')"
            ]
          },
          "metadata": {},
          "execution_count": 8
        }
      ]
    },
    {
      "cell_type": "markdown",
      "source": [
        "### 4. Moving tensors back to the CPU"
      ],
      "metadata": {
        "id": "7DFnIxDyscMa"
      },
      "id": "7DFnIxDyscMa"
    },
    {
      "cell_type": "code",
      "source": [
        "# If tensor is on GPU, cannot transform it to NumPy\n",
        "tensor_on_gpu.numpy()"
      ],
      "metadata": {
        "id": "BQa2fqqHsLjc",
        "outputId": "98d5629c-8116-43ca-f331-e184022853de",
        "colab": {
          "base_uri": "https://localhost:8080/",
          "height": 216
        }
      },
      "id": "BQa2fqqHsLjc",
      "execution_count": 9,
      "outputs": [
        {
          "output_type": "error",
          "ename": "TypeError",
          "evalue": "can't convert cuda:0 device type tensor to numpy. Use Tensor.cpu() to copy the tensor to host memory first.",
          "traceback": [
            "\u001b[0;31m---------------------------------------------------------------------------\u001b[0m",
            "\u001b[0;31mTypeError\u001b[0m                                 Traceback (most recent call last)",
            "\u001b[0;32m<ipython-input-9-818d33c7bc10>\u001b[0m in \u001b[0;36m<cell line: 2>\u001b[0;34m()\u001b[0m\n\u001b[1;32m      1\u001b[0m \u001b[0;31m# If tensor is on GPU, cannot transform it to NumPy\u001b[0m\u001b[0;34m\u001b[0m\u001b[0;34m\u001b[0m\u001b[0m\n\u001b[0;32m----> 2\u001b[0;31m \u001b[0mtensor_on_gpu\u001b[0m\u001b[0;34m.\u001b[0m\u001b[0mnumpy\u001b[0m\u001b[0;34m(\u001b[0m\u001b[0;34m)\u001b[0m\u001b[0;34m\u001b[0m\u001b[0;34m\u001b[0m\u001b[0m\n\u001b[0m",
            "\u001b[0;31mTypeError\u001b[0m: can't convert cuda:0 device type tensor to numpy. Use Tensor.cpu() to copy the tensor to host memory first."
          ]
        }
      ]
    },
    {
      "cell_type": "code",
      "source": [
        "# To fix the issue, we can firest set it to CPU\n",
        "tensor_back_on_cpu = tensor_on_gpu.cpu().numpy()\n",
        "tensor_back_on_cpu"
      ],
      "metadata": {
        "id": "UWwNI-_YssUs",
        "outputId": "c7d1035b-7641-446d-cfe2-1e8591025e38",
        "colab": {
          "base_uri": "https://localhost:8080/"
        }
      },
      "id": "UWwNI-_YssUs",
      "execution_count": 10,
      "outputs": [
        {
          "output_type": "execute_result",
          "data": {
            "text/plain": [
              "array([1, 2, 3])"
            ]
          },
          "metadata": {},
          "execution_count": 10
        }
      ]
    },
    {
      "cell_type": "code",
      "source": [
        "tensor_on_gpu"
      ],
      "metadata": {
        "id": "-50F0Q5rs_dt",
        "outputId": "d4192c04-4397-4f22-cab7-60f58fe8ef03",
        "colab": {
          "base_uri": "https://localhost:8080/"
        }
      },
      "id": "-50F0Q5rs_dt",
      "execution_count": 11,
      "outputs": [
        {
          "output_type": "execute_result",
          "data": {
            "text/plain": [
              "tensor([1, 2, 3], device='cuda:0')"
            ]
          },
          "metadata": {},
          "execution_count": 11
        }
      ]
    },
    {
      "cell_type": "code",
      "source": [],
      "metadata": {
        "id": "bJ6rhugNtDKM"
      },
      "id": "bJ6rhugNtDKM",
      "execution_count": null,
      "outputs": []
    }
  ],
  "metadata": {
    "kernelspec": {
      "display_name": "Python 3",
      "name": "python3"
    },
    "language_info": {
      "codemirror_mode": {
        "name": "ipython",
        "version": 2
      },
      "file_extension": ".py",
      "mimetype": "text/x-python",
      "name": "python",
      "nbconvert_exporter": "python",
      "pygments_lexer": "ipython2",
      "version": "2.7.6"
    },
    "colab": {
      "provenance": [],
      "gpuType": "T4"
    },
    "accelerator": "GPU"
  },
  "nbformat": 4,
  "nbformat_minor": 5
}