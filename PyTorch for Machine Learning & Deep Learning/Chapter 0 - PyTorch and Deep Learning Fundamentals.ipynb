{
 "cells": [
  {
   "metadata": {},
   "cell_type": "markdown",
   "source": "# Chapter 0: Pytorch and Deep Learning Fundamentals",
   "id": "973524d8fa2837f7"
  },
  {
   "metadata": {},
   "cell_type": "markdown",
   "source": [
    "structured data: traditional ML(e.g. XGBoost)\n",
    "deep learning: unstructured data (e.g. neural network)"
   ],
   "id": "5b6ca3e80c1cb0c8"
  },
  {
   "metadata": {},
   "cell_type": "markdown",
   "source": [
    "## Neural Network\n",
    "we have inputs(images, voices, and words), and do numerical encoding(we incode the inputs as matrix). Then choose the appropriate neural network for the problem, that is to learn representation(patterns/features/weights). So that we can get numerical representation outputs(also matrix). Finally get the human understandable outputs."
   ],
   "id": "e16a12fe10af6cca"
  },
  {
   "metadata": {},
   "cell_type": "markdown",
   "source": "# PyTorch - Tensor!",
   "id": "ab219d0afea65643"
  },
  {
   "cell_type": "code",
   "id": "initial_id",
   "metadata": {
    "collapsed": true,
    "ExecuteTime": {
     "end_time": "2024-11-14T19:03:53.509826Z",
     "start_time": "2024-11-14T19:03:53.507905Z"
    }
   },
   "source": [
    "from importlib import import_module\n",
    "\n",
    "import torch\n",
    "import numpy as np\n",
    "import pandas as pd\n",
    "import matplotlib.pyplot as plt\n",
    "from torch.fft import Tensor"
   ],
   "outputs": [],
   "execution_count": 2
  },
  {
   "metadata": {
    "ExecuteTime": {
     "end_time": "2024-11-12T21:25:58.766353Z",
     "start_time": "2024-11-12T21:25:58.756591Z"
    }
   },
   "cell_type": "code",
   "source": [
    "# version\n",
    "torch.__version__"
   ],
   "id": "688113d07fd35c64",
   "outputs": [
    {
     "data": {
      "text/plain": [
       "'2.5.1'"
      ]
     },
     "execution_count": 3,
     "metadata": {},
     "output_type": "execute_result"
    }
   ],
   "execution_count": 3
  },
  {
   "metadata": {},
   "cell_type": "markdown",
   "source": [
    "## Introduction to Tensors\n",
    "\n",
    "### Creating tensors"
   ],
   "id": "861d741bb0b0f260"
  },
  {
   "metadata": {
    "ExecuteTime": {
     "end_time": "2024-11-12T21:29:26.443326Z",
     "start_time": "2024-11-12T21:29:26.416109Z"
    }
   },
   "cell_type": "code",
   "source": [
    "# scalar\n",
    "scalar = torch.tensor(7)\n",
    "scalar"
   ],
   "id": "a312fb7240d23689",
   "outputs": [
    {
     "data": {
      "text/plain": [
       "tensor(7)"
      ]
     },
     "execution_count": 4,
     "metadata": {},
     "output_type": "execute_result"
    }
   ],
   "execution_count": 4
  },
  {
   "metadata": {
    "ExecuteTime": {
     "end_time": "2024-11-13T01:19:50.322865Z",
     "start_time": "2024-11-13T01:19:50.308805Z"
    }
   },
   "cell_type": "code",
   "source": "scalar.ndim",
   "id": "8128eeda5939afd3",
   "outputs": [
    {
     "data": {
      "text/plain": [
       "0"
      ]
     },
     "execution_count": 5,
     "metadata": {},
     "output_type": "execute_result"
    }
   ],
   "execution_count": 5
  },
  {
   "metadata": {
    "ExecuteTime": {
     "end_time": "2024-11-13T01:22:40.547750Z",
     "start_time": "2024-11-13T01:22:40.541415Z"
    }
   },
   "cell_type": "code",
   "source": [
    "# Get tensor back as Python int\n",
    "scalar.item()"
   ],
   "id": "1ef6b09c2b13fcae",
   "outputs": [
    {
     "data": {
      "text/plain": [
       "7"
      ]
     },
     "execution_count": 6,
     "metadata": {},
     "output_type": "execute_result"
    }
   ],
   "execution_count": 6
  },
  {
   "metadata": {
    "ExecuteTime": {
     "end_time": "2024-11-13T01:35:40.119090Z",
     "start_time": "2024-11-13T01:35:40.103172Z"
    }
   },
   "cell_type": "code",
   "source": [
    "# Vector\n",
    "vector = torch.tensor([7,7])\n",
    "vector"
   ],
   "id": "b0129d8ecdc13516",
   "outputs": [
    {
     "data": {
      "text/plain": [
       "tensor([7, 7])"
      ]
     },
     "execution_count": 7,
     "metadata": {},
     "output_type": "execute_result"
    }
   ],
   "execution_count": 7
  },
  {
   "metadata": {
    "ExecuteTime": {
     "end_time": "2024-11-13T01:38:07.416056Z",
     "start_time": "2024-11-13T01:38:07.410338Z"
    }
   },
   "cell_type": "code",
   "source": "vector.ndim",
   "id": "c3ddf7ced8556a58",
   "outputs": [
    {
     "data": {
      "text/plain": [
       "1"
      ]
     },
     "execution_count": 9,
     "metadata": {},
     "output_type": "execute_result"
    }
   ],
   "execution_count": 9
  },
  {
   "metadata": {
    "ExecuteTime": {
     "end_time": "2024-11-13T01:38:08.780391Z",
     "start_time": "2024-11-13T01:38:08.776336Z"
    }
   },
   "cell_type": "code",
   "source": "vector.shape",
   "id": "54a1a2f0e80a082b",
   "outputs": [
    {
     "data": {
      "text/plain": [
       "torch.Size([2])"
      ]
     },
     "execution_count": 10,
     "metadata": {},
     "output_type": "execute_result"
    }
   ],
   "execution_count": 10
  },
  {
   "metadata": {
    "ExecuteTime": {
     "end_time": "2024-11-13T01:41:26.950155Z",
     "start_time": "2024-11-13T01:41:26.943043Z"
    }
   },
   "cell_type": "code",
   "source": [
    "# Matrix\n",
    "Matrix = torch.tensor([[7,8],\n",
    "                       [9,10],\n",
    "                       [11,12]])\n",
    "Matrix"
   ],
   "id": "d44ae317c44c9d6c",
   "outputs": [
    {
     "data": {
      "text/plain": [
       "tensor([[ 7,  8],\n",
       "        [ 9, 10],\n",
       "        [11, 12]])"
      ]
     },
     "execution_count": 16,
     "metadata": {},
     "output_type": "execute_result"
    }
   ],
   "execution_count": 16
  },
  {
   "metadata": {
    "ExecuteTime": {
     "end_time": "2024-11-13T01:41:28.460046Z",
     "start_time": "2024-11-13T01:41:28.455609Z"
    }
   },
   "cell_type": "code",
   "source": "Matrix.ndim",
   "id": "d8271fd36b7143d6",
   "outputs": [
    {
     "data": {
      "text/plain": [
       "2"
      ]
     },
     "execution_count": 17,
     "metadata": {},
     "output_type": "execute_result"
    }
   ],
   "execution_count": 17
  },
  {
   "metadata": {
    "ExecuteTime": {
     "end_time": "2024-11-13T01:41:29.266825Z",
     "start_time": "2024-11-13T01:41:29.263576Z"
    }
   },
   "cell_type": "code",
   "source": "Matrix.shape",
   "id": "9f3ba7c15d00fd06",
   "outputs": [
    {
     "data": {
      "text/plain": [
       "torch.Size([3, 2])"
      ]
     },
     "execution_count": 18,
     "metadata": {},
     "output_type": "execute_result"
    }
   ],
   "execution_count": 18
  },
  {
   "metadata": {
    "ExecuteTime": {
     "end_time": "2024-11-13T01:44:51.079914Z",
     "start_time": "2024-11-13T01:44:51.067885Z"
    }
   },
   "cell_type": "code",
   "source": [
    "# Tensor\n",
    "TENSOR = torch.Tensor([[[1,2,3],\n",
    "                        [4,5,6],\n",
    "                        [7,8,9]],\n",
    "                       [[9,8,7],\n",
    "                        [6,5,4],\n",
    "                        [3,2,1]]])\n",
    "TENSOR"
   ],
   "id": "352d11d2ddbb8e0f",
   "outputs": [
    {
     "data": {
      "text/plain": [
       "tensor([[[1., 2., 3.],\n",
       "         [4., 5., 6.],\n",
       "         [7., 8., 9.]],\n",
       "\n",
       "        [[9., 8., 7.],\n",
       "         [6., 5., 4.],\n",
       "         [3., 2., 1.]]])"
      ]
     },
     "execution_count": 24,
     "metadata": {},
     "output_type": "execute_result"
    }
   ],
   "execution_count": 24
  },
  {
   "metadata": {
    "ExecuteTime": {
     "end_time": "2024-11-13T01:44:54.586888Z",
     "start_time": "2024-11-13T01:44:54.582456Z"
    }
   },
   "cell_type": "code",
   "source": "TENSOR.shape",
   "id": "a4b5708cc0144afb",
   "outputs": [
    {
     "data": {
      "text/plain": [
       "torch.Size([2, 3, 3])"
      ]
     },
     "execution_count": 25,
     "metadata": {},
     "output_type": "execute_result"
    }
   ],
   "execution_count": 25
  },
  {
   "metadata": {
    "ExecuteTime": {
     "end_time": "2024-11-13T01:44:58.993436Z",
     "start_time": "2024-11-13T01:44:58.989215Z"
    }
   },
   "cell_type": "code",
   "source": "TENSOR[1]",
   "id": "a36cd22521d81c64",
   "outputs": [
    {
     "data": {
      "text/plain": [
       "tensor([[9., 8., 7.],\n",
       "        [6., 5., 4.],\n",
       "        [3., 2., 1.]])"
      ]
     },
     "execution_count": 26,
     "metadata": {},
     "output_type": "execute_result"
    }
   ],
   "execution_count": 26
  },
  {
   "metadata": {},
   "cell_type": "markdown",
   "source": [
    "### Random tensors\n",
    "\n",
    "Why random tensors?\n",
    "\n",
    "Important because the way many neural networks learn is that they start with tensors full of random numbers and then adjust random numbers to better represent the data.\n",
    "\n",
    "`start with random numbers -> look at data -> update random numbers -> look at data-> update random numbers`"
   ],
   "id": "bfe315f0b60d646b"
  },
  {
   "metadata": {
    "ExecuteTime": {
     "end_time": "2024-11-13T01:52:32.781429Z",
     "start_time": "2024-11-13T01:52:32.777375Z"
    }
   },
   "cell_type": "code",
   "source": [
    "# Create a random tensors of size(3,4)\n",
    "random_tensor = torch.rand(3,3,3)\n",
    "random_tensor"
   ],
   "id": "a7128d036a383c6e",
   "outputs": [
    {
     "data": {
      "text/plain": [
       "tensor([[[0.2380, 0.1111, 0.3919],\n",
       "         [0.5536, 0.0226, 0.7085],\n",
       "         [0.3668, 0.8275, 0.8452]],\n",
       "\n",
       "        [[0.8176, 0.4765, 0.4623],\n",
       "         [0.0674, 0.3542, 0.8603],\n",
       "         [0.6735, 0.0159, 0.7034]],\n",
       "\n",
       "        [[0.2972, 0.0412, 0.4791],\n",
       "         [0.2350, 0.2399, 0.1777],\n",
       "         [0.0325, 0.5358, 0.0489]]])"
      ]
     },
     "execution_count": 29,
     "metadata": {},
     "output_type": "execute_result"
    }
   ],
   "execution_count": 29
  },
  {
   "metadata": {
    "ExecuteTime": {
     "end_time": "2024-11-13T01:55:53.631821Z",
     "start_time": "2024-11-13T01:55:53.620508Z"
    }
   },
   "cell_type": "code",
   "source": [
    "# Create a random tensor with similar shape to an image tensor\n",
    "random_image_tensor = torch.rand(size=(224,224,3)) # height, width,colour channels (R,G,B)\n",
    "random_image_tensor.shape, random_tensor.ndim"
   ],
   "id": "ecf74a62dab5c541",
   "outputs": [
    {
     "data": {
      "text/plain": [
       "(torch.Size([224, 224, 3]), 3)"
      ]
     },
     "execution_count": 30,
     "metadata": {},
     "output_type": "execute_result"
    }
   ],
   "execution_count": 30
  },
  {
   "metadata": {},
   "cell_type": "markdown",
   "source": "### Zeros and ones",
   "id": "30beb53e99c94a1d"
  },
  {
   "metadata": {
    "ExecuteTime": {
     "end_time": "2024-11-13T01:59:11.271570Z",
     "start_time": "2024-11-13T01:59:11.265807Z"
    }
   },
   "cell_type": "code",
   "source": [
    "# Create a tensor of all zeros\n",
    "zeros = torch.zeros(size=(3,3,4))\n",
    "zeros"
   ],
   "id": "8b96e246f9f1c1e7",
   "outputs": [
    {
     "data": {
      "text/plain": [
       "tensor([[[0., 0., 0., 0.],\n",
       "         [0., 0., 0., 0.],\n",
       "         [0., 0., 0., 0.]],\n",
       "\n",
       "        [[0., 0., 0., 0.],\n",
       "         [0., 0., 0., 0.],\n",
       "         [0., 0., 0., 0.]],\n",
       "\n",
       "        [[0., 0., 0., 0.],\n",
       "         [0., 0., 0., 0.],\n",
       "         [0., 0., 0., 0.]]])"
      ]
     },
     "execution_count": 32,
     "metadata": {},
     "output_type": "execute_result"
    }
   ],
   "execution_count": 32
  },
  {
   "metadata": {
    "ExecuteTime": {
     "end_time": "2024-11-13T01:59:49.638709Z",
     "start_time": "2024-11-13T01:59:49.627426Z"
    }
   },
   "cell_type": "code",
   "source": [
    "# Create a tensor of all ones\n",
    "ones = torch.ones(size=(3,3,3))\n",
    "ones"
   ],
   "id": "805671d6cd9150e1",
   "outputs": [
    {
     "data": {
      "text/plain": [
       "tensor([[[1., 1., 1.],\n",
       "         [1., 1., 1.],\n",
       "         [1., 1., 1.]],\n",
       "\n",
       "        [[1., 1., 1.],\n",
       "         [1., 1., 1.],\n",
       "         [1., 1., 1.]],\n",
       "\n",
       "        [[1., 1., 1.],\n",
       "         [1., 1., 1.],\n",
       "         [1., 1., 1.]]])"
      ]
     },
     "execution_count": 33,
     "metadata": {},
     "output_type": "execute_result"
    }
   ],
   "execution_count": 33
  },
  {
   "metadata": {},
   "cell_type": "markdown",
   "source": "### Creating a range of tensors and tensors-like",
   "id": "7deb78c27bfdfeec"
  },
  {
   "metadata": {
    "ExecuteTime": {
     "end_time": "2024-11-13T02:04:50.056673Z",
     "start_time": "2024-11-13T02:04:50.052512Z"
    }
   },
   "cell_type": "code",
   "source": [
    "# Use torch.range and get deprecated message, use torch.arrange\n",
    "one_to_ten = torch.arange(0,11,1)\n",
    "one_to_ten"
   ],
   "id": "7dfb84eeb048febd",
   "outputs": [
    {
     "data": {
      "text/plain": [
       "tensor([ 0,  1,  2,  3,  4,  5,  6,  7,  8,  9, 10])"
      ]
     },
     "execution_count": 38,
     "metadata": {},
     "output_type": "execute_result"
    }
   ],
   "execution_count": 38
  },
  {
   "metadata": {
    "ExecuteTime": {
     "end_time": "2024-11-13T02:05:04.859477Z",
     "start_time": "2024-11-13T02:05:04.854644Z"
    }
   },
   "cell_type": "code",
   "source": [
    "# Creating tensors like\n",
    "ten_zeros = torch.zeros_like(one_to_ten)\n",
    "ten_zeros"
   ],
   "id": "a9a6390ea82fbdd7",
   "outputs": [
    {
     "data": {
      "text/plain": [
       "tensor([0, 0, 0, 0, 0, 0, 0, 0, 0, 0, 0])"
      ]
     },
     "execution_count": 40,
     "metadata": {},
     "output_type": "execute_result"
    }
   ],
   "execution_count": 40
  },
  {
   "metadata": {},
   "cell_type": "markdown",
   "source": [
    "### Tensor datatypes\n",
    "\n",
    "**Note:** Tensor datatype is one of the 3 big errors you'll run into with PyTorch & Deep Learning\n",
    "1. Tensors not right datatype\n",
    "2. Tensors not right shape\n",
    "3. Tensors not on the right device"
   ],
   "id": "60838bafe4acade7"
  },
  {
   "metadata": {
    "ExecuteTime": {
     "end_time": "2024-11-13T02:11:28.816554Z",
     "start_time": "2024-11-13T02:11:28.807508Z"
    }
   },
   "cell_type": "code",
   "source": [
    "# Float 32 tensor\n",
    "float_32_tensor = torch.tensor([3.0,6.0,9.0],\n",
    "                               dtype=None,# what datatype is the tensor (e.g. float32 or float16 )\n",
    "                               device=None,# What device is your tensors on\n",
    "                               requires_grad=False) # whether or not to track gradients with this tensors operation\n",
    "float_32_tensor                               "
   ],
   "id": "776c96586a1baf3a",
   "outputs": [
    {
     "data": {
      "text/plain": [
       "tensor([3., 6., 9.])"
      ]
     },
     "execution_count": 41,
     "metadata": {},
     "output_type": "execute_result"
    }
   ],
   "execution_count": 41
  },
  {
   "metadata": {
    "ExecuteTime": {
     "end_time": "2024-11-13T02:16:11.427409Z",
     "start_time": "2024-11-13T02:16:11.416277Z"
    }
   },
   "cell_type": "code",
   "source": "float_32_tensor.dtype",
   "id": "a8ecb7cfa9ecd4d7",
   "outputs": [
    {
     "data": {
      "text/plain": [
       "torch.float32"
      ]
     },
     "execution_count": 42,
     "metadata": {},
     "output_type": "execute_result"
    }
   ],
   "execution_count": 42
  },
  {
   "metadata": {
    "ExecuteTime": {
     "end_time": "2024-11-13T02:17:15.707441Z",
     "start_time": "2024-11-13T02:17:15.695654Z"
    }
   },
   "cell_type": "code",
   "source": [
    "float_16_tensor = float_32_tensor.type(torch.float16)\n",
    "float_16_tensor"
   ],
   "id": "380918ac6fc09fa5",
   "outputs": [
    {
     "data": {
      "text/plain": [
       "tensor([3., 6., 9.], dtype=torch.float16)"
      ]
     },
     "execution_count": 43,
     "metadata": {},
     "output_type": "execute_result"
    }
   ],
   "execution_count": 43
  },
  {
   "metadata": {
    "ExecuteTime": {
     "end_time": "2024-11-13T02:20:30.906717Z",
     "start_time": "2024-11-13T02:20:30.896849Z"
    }
   },
   "cell_type": "code",
   "source": [
    "int_32_tensor = torch.tensor([3,6,9],dtype=torch.int32)\n",
    "int_32_tensor"
   ],
   "id": "625170126641052",
   "outputs": [
    {
     "data": {
      "text/plain": [
       "tensor([3, 6, 9], dtype=torch.int32)"
      ]
     },
     "execution_count": 46,
     "metadata": {},
     "output_type": "execute_result"
    }
   ],
   "execution_count": 46
  },
  {
   "metadata": {
    "ExecuteTime": {
     "end_time": "2024-11-13T02:29:58.109411Z",
     "start_time": "2024-11-13T02:29:58.099744Z"
    }
   },
   "cell_type": "code",
   "source": [
    "mul = float_16_tensor * int_32_tensor\n",
    "mul.dtype"
   ],
   "id": "f1da229e5018449",
   "outputs": [
    {
     "data": {
      "text/plain": [
       "torch.float16"
      ]
     },
     "execution_count": 49,
     "metadata": {},
     "output_type": "execute_result"
    }
   ],
   "execution_count": 49
  },
  {
   "metadata": {},
   "cell_type": "markdown",
   "source": [
    "### Getting information from tensors\n",
    "1. Tensors not right datatype - to get datatype from a tensor, `tensor.dtype`\n",
    "2. Tensors not right shape - to get shape from a tensor, `tensor.shape`\n",
    "3. Tensors not on the right device - to get device from a tensor, `tensor.device`"
   ],
   "id": "9805a761e2381e77"
  },
  {
   "metadata": {
    "ExecuteTime": {
     "end_time": "2024-11-13T02:32:54.870745Z",
     "start_time": "2024-11-13T02:32:54.864460Z"
    }
   },
   "cell_type": "code",
   "source": [
    "# Create a tensor\n",
    "some_tensor = torch.rand(3,4)\n",
    "some_tensor"
   ],
   "id": "51d2f5336283ac9c",
   "outputs": [
    {
     "data": {
      "text/plain": [
       "tensor([[0.7226, 0.2664, 0.3782, 0.8478],\n",
       "        [0.9408, 0.9261, 0.3493, 0.8799],\n",
       "        [0.5692, 0.8266, 0.9772, 0.4500]])"
      ]
     },
     "execution_count": 50,
     "metadata": {},
     "output_type": "execute_result"
    }
   ],
   "execution_count": 50
  },
  {
   "metadata": {
    "ExecuteTime": {
     "end_time": "2024-11-13T03:10:51.149423Z",
     "start_time": "2024-11-13T03:10:51.097280Z"
    }
   },
   "cell_type": "code",
   "source": [
    "# Find out details about the tensor\n",
    "print(some_tensor)\n",
    "print(f'Datatype of tensor: {some_tensor.dtype}')\n",
    "print(f'Shape of tensor: {some_tensor.shape}')\n",
    "print(f'Device tensor is on:{some_tensor.device}')\n"
   ],
   "id": "c917785d609ea11b",
   "outputs": [
    {
     "name": "stdout",
     "output_type": "stream",
     "text": [
      "tensor([[0.7226, 0.2664, 0.3782, 0.8478],\n",
      "        [0.9408, 0.9261, 0.3493, 0.8799],\n",
      "        [0.5692, 0.8266, 0.9772, 0.4500]])\n",
      "Datatype of tensor: torch.float32\n",
      "Shape of tensor: torch.Size([3, 4])\n",
      "Device tensor is on:cpu\n"
     ]
    }
   ],
   "execution_count": 52
  },
  {
   "metadata": {},
   "cell_type": "markdown",
   "source": [
    "### Manipulating Tensors (tensor operations)\n",
    "\n",
    "Tensor operations include:\n",
    "* Addition\n",
    "* Subtraction\n",
    "* Multiplication (element-wise)\n",
    "* Division\n",
    "* Matrix multiplication\n"
   ],
   "id": "4e4e8ce08daa6f76"
  },
  {
   "metadata": {
    "ExecuteTime": {
     "end_time": "2024-11-14T19:04:04.235403Z",
     "start_time": "2024-11-14T19:04:04.218796Z"
    }
   },
   "cell_type": "code",
   "source": [
    "# Create a tensor and add 10\n",
    "tensor = torch.tensor([1,2,3])\n",
    "tensor + 10"
   ],
   "id": "6c21c26e0f23c18c",
   "outputs": [
    {
     "data": {
      "text/plain": [
       "tensor([11, 12, 13])"
      ]
     },
     "execution_count": 3,
     "metadata": {},
     "output_type": "execute_result"
    }
   ],
   "execution_count": 3
  },
  {
   "metadata": {
    "ExecuteTime": {
     "end_time": "2024-11-13T03:16:18.959408Z",
     "start_time": "2024-11-13T03:16:18.955894Z"
    }
   },
   "cell_type": "code",
   "source": [
    "# Mul by 10\n",
    "tensor * 10"
   ],
   "id": "3cfc9fde3f247dc3",
   "outputs": [
    {
     "data": {
      "text/plain": [
       "tensor([10, 20, 30])"
      ]
     },
     "execution_count": 57,
     "metadata": {},
     "output_type": "execute_result"
    }
   ],
   "execution_count": 57
  },
  {
   "metadata": {
    "ExecuteTime": {
     "end_time": "2024-11-13T03:16:54.803271Z",
     "start_time": "2024-11-13T03:16:54.796470Z"
    }
   },
   "cell_type": "code",
   "source": [
    "# Substract 10\n",
    "tensor - 10"
   ],
   "id": "cccb9852552d9bcd",
   "outputs": [
    {
     "data": {
      "text/plain": [
       "tensor([-9, -8, -7])"
      ]
     },
     "execution_count": 58,
     "metadata": {},
     "output_type": "execute_result"
    }
   ],
   "execution_count": 58
  },
  {
   "metadata": {
    "ExecuteTime": {
     "end_time": "2024-11-13T03:17:22.903377Z",
     "start_time": "2024-11-13T03:17:22.899521Z"
    }
   },
   "cell_type": "code",
   "source": "torch.mul(tensor,10)",
   "id": "d6225aec784ec0b8",
   "outputs": [
    {
     "data": {
      "text/plain": [
       "tensor([10, 20, 30])"
      ]
     },
     "execution_count": 60,
     "metadata": {},
     "output_type": "execute_result"
    }
   ],
   "execution_count": 60
  },
  {
   "metadata": {
    "ExecuteTime": {
     "end_time": "2024-11-13T03:17:40.422874Z",
     "start_time": "2024-11-13T03:17:40.418768Z"
    }
   },
   "cell_type": "code",
   "source": "torch.add(tensor,10)",
   "id": "3f3e06f2a946138e",
   "outputs": [
    {
     "data": {
      "text/plain": [
       "tensor([11, 12, 13])"
      ]
     },
     "execution_count": 61,
     "metadata": {},
     "output_type": "execute_result"
    }
   ],
   "execution_count": 61
  },
  {
   "metadata": {},
   "cell_type": "markdown",
   "source": [
    "### Matrix multiplication\n",
    "\n",
    "two main ways of performing multiplication in neural networks and deep learning:\n",
    "\n",
    "1. Element-wise multiplication\n",
    "2. Matrix multiplication (**dot product**)\n",
    "\n",
    "\n",
    "There are two main rules that performing matrix multiplication need to satisfy:\n",
    "1. The **inner dimension** must match (矩阵乘法法则）"
   ],
   "id": "f9d1e75587769739"
  },
  {
   "metadata": {
    "ExecuteTime": {
     "end_time": "2024-11-14T03:38:37.985326Z",
     "start_time": "2024-11-14T03:38:37.982069Z"
    }
   },
   "cell_type": "code",
   "source": "tensor * tensor",
   "id": "70fd8c2e0e3fe773",
   "outputs": [
    {
     "data": {
      "text/plain": [
       "tensor([1, 4, 9])"
      ]
     },
     "execution_count": 7,
     "metadata": {},
     "output_type": "execute_result"
    }
   ],
   "execution_count": 7
  },
  {
   "metadata": {
    "ExecuteTime": {
     "end_time": "2024-11-14T03:39:38.672454Z",
     "start_time": "2024-11-14T03:39:38.668770Z"
    }
   },
   "cell_type": "code",
   "source": "torch.matmul(tensor,tensor)",
   "id": "a7db566f11d55a5",
   "outputs": [
    {
     "data": {
      "text/plain": [
       "tensor(14)"
      ]
     },
     "execution_count": 8,
     "metadata": {},
     "output_type": "execute_result"
    }
   ],
   "execution_count": 8
  },
  {
   "metadata": {
    "ExecuteTime": {
     "end_time": "2024-11-14T03:55:53.019034Z",
     "start_time": "2024-11-14T03:55:53.013159Z"
    }
   },
   "cell_type": "code",
   "source": "torch.matmul(torch.rand(3,2),torch.rand(2,3))",
   "id": "66298b5a25293777",
   "outputs": [
    {
     "data": {
      "text/plain": [
       "tensor([[0.7094, 0.8788, 1.0695],\n",
       "        [0.6721, 0.6508, 0.7817],\n",
       "        [0.6833, 0.7055, 0.8506]])"
      ]
     },
     "execution_count": 9,
     "metadata": {},
     "output_type": "execute_result"
    }
   ],
   "execution_count": 9
  },
  {
   "metadata": {
    "ExecuteTime": {
     "end_time": "2024-11-14T19:17:26.505481Z",
     "start_time": "2024-11-14T19:17:26.502855Z"
    }
   },
   "cell_type": "code",
   "source": [
    "tensor_A = torch.tensor([[1,2],\n",
    "                         [3,4],\n",
    "                         [5,6]])\n",
    "tensor_B = torch.tensor([[7,10],\n",
    "                        [8,11],\n",
    "                        [9,12]])\n",
    "torch.matmul(tensor_A,tensor_B.T).shape\n"
   ],
   "id": "17c24b0e9256735e",
   "outputs": [
    {
     "data": {
      "text/plain": [
       "torch.Size([3, 3])"
      ]
     },
     "execution_count": 7,
     "metadata": {},
     "output_type": "execute_result"
    }
   ],
   "execution_count": 7
  },
  {
   "metadata": {},
   "cell_type": "markdown",
   "source": "### Finding the min, max, mean, sum (tensor aggregation)",
   "id": "5a47558f6c467571"
  },
  {
   "metadata": {
    "ExecuteTime": {
     "end_time": "2024-11-14T19:21:19.950331Z",
     "start_time": "2024-11-14T19:21:19.947181Z"
    }
   },
   "cell_type": "code",
   "source": [
    "x= torch.arange(0,100,10)\n",
    "x, x.dtype"
   ],
   "id": "75fd095dfe0a6523",
   "outputs": [
    {
     "data": {
      "text/plain": [
       "(tensor([ 0, 10, 20, 30, 40, 50, 60, 70, 80, 90]), torch.int64)"
      ]
     },
     "execution_count": 11,
     "metadata": {},
     "output_type": "execute_result"
    }
   ],
   "execution_count": 11
  },
  {
   "metadata": {
    "ExecuteTime": {
     "end_time": "2024-11-14T19:20:32.549846Z",
     "start_time": "2024-11-14T19:20:32.544167Z"
    }
   },
   "cell_type": "code",
   "source": "torch.min(x)",
   "id": "f59cac51add8b383",
   "outputs": [
    {
     "data": {
      "text/plain": [
       "tensor(0)"
      ]
     },
     "execution_count": 9,
     "metadata": {},
     "output_type": "execute_result"
    }
   ],
   "execution_count": 9
  },
  {
   "metadata": {
    "ExecuteTime": {
     "end_time": "2024-11-14T19:20:43.625684Z",
     "start_time": "2024-11-14T19:20:43.622091Z"
    }
   },
   "cell_type": "code",
   "source": "torch.max(x)",
   "id": "11f2d3ac682a2369",
   "outputs": [
    {
     "data": {
      "text/plain": [
       "tensor(90)"
      ]
     },
     "execution_count": 10,
     "metadata": {},
     "output_type": "execute_result"
    }
   ],
   "execution_count": 10
  },
  {
   "metadata": {
    "ExecuteTime": {
     "end_time": "2024-11-14T19:22:33.665508Z",
     "start_time": "2024-11-14T19:22:33.648799Z"
    }
   },
   "cell_type": "code",
   "source": [
    "# the torch.mean() function requires a tensor of float32 datatype to work\n",
    "torch.mean(x.type(torch.float32))"
   ],
   "id": "23af93b76c952d8d",
   "outputs": [
    {
     "data": {
      "text/plain": [
       "tensor(45.)"
      ]
     },
     "execution_count": 12,
     "metadata": {},
     "output_type": "execute_result"
    }
   ],
   "execution_count": 12
  },
  {
   "metadata": {
    "ExecuteTime": {
     "end_time": "2024-11-14T19:23:53.586062Z",
     "start_time": "2024-11-14T19:23:53.580974Z"
    }
   },
   "cell_type": "code",
   "source": "torch.sum(x)",
   "id": "19fdfe1ed21bba02",
   "outputs": [
    {
     "data": {
      "text/plain": [
       "tensor(450)"
      ]
     },
     "execution_count": 13,
     "metadata": {},
     "output_type": "execute_result"
    }
   ],
   "execution_count": 13
  },
  {
   "metadata": {
    "ExecuteTime": {
     "end_time": "2024-11-14T19:26:29.205149Z",
     "start_time": "2024-11-14T19:26:29.201783Z"
    }
   },
   "cell_type": "code",
   "source": [
    "# Find the position\n",
    "x.argmin(), x.argmax()"
   ],
   "id": "43dfdd3a18b31ebd",
   "outputs": [
    {
     "data": {
      "text/plain": [
       "(tensor(0), tensor(9))"
      ]
     },
     "execution_count": 16,
     "metadata": {},
     "output_type": "execute_result"
    }
   ],
   "execution_count": 16
  },
  {
   "metadata": {
    "ExecuteTime": {
     "end_time": "2024-11-14T19:27:15.490816Z",
     "start_time": "2024-11-14T19:27:15.488041Z"
    }
   },
   "cell_type": "code",
   "source": "x[0],x[9]",
   "id": "37b8b6d6ecd2e122",
   "outputs": [
    {
     "data": {
      "text/plain": [
       "(tensor(0), tensor(90))"
      ]
     },
     "execution_count": 17,
     "metadata": {},
     "output_type": "execute_result"
    }
   ],
   "execution_count": 17
  },
  {
   "metadata": {
    "ExecuteTime": {
     "end_time": "2024-11-14T19:28:08.090659Z",
     "start_time": "2024-11-14T19:28:08.087292Z"
    }
   },
   "cell_type": "code",
   "source": "",
   "id": "43d17f37b8e07bb2",
   "outputs": [
    {
     "data": {
      "text/plain": [
       "tensor([ 0, 10, 20, 30, 40, 50, 60, 70, 80, 90])"
      ]
     },
     "execution_count": 18,
     "metadata": {},
     "output_type": "execute_result"
    }
   ],
   "execution_count": 18
  },
  {
   "metadata": {},
   "cell_type": "markdown",
   "source": [
    "### Reshaping, stacking, squeezing and unsqueezing tensors\n",
    "\n",
    "* Reshaping - reshapes an input tensor to a define shape\n",
    "* View - Return a view of an input tensor of certain shape but keep the same memory as the original tensor\n",
    "* Stacking - combine multiple tensors on top of each other (vstack) or side by side (hstack)\n",
    "* Squeeze - removes all `1` dimensions from a tensor\n",
    "* Unsqueeze - add a `1` dimension to a target tensor\n",
    "* Permute - Return a view of the input with dimensions permuted (swapped) in a certain way\n",
    "\n"
   ],
   "id": "d47df42dd0b16b46"
  },
  {
   "metadata": {
    "ExecuteTime": {
     "end_time": "2024-11-14T20:22:19.563028Z",
     "start_time": "2024-11-14T20:22:19.558494Z"
    }
   },
   "cell_type": "code",
   "source": [
    "x = torch.arange(1,10)\n",
    "x, x.shape"
   ],
   "id": "1b78e5e106122d7d",
   "outputs": [
    {
     "data": {
      "text/plain": [
       "(tensor([1, 2, 3, 4, 5, 6, 7, 8, 9]), torch.Size([9]))"
      ]
     },
     "execution_count": 51,
     "metadata": {},
     "output_type": "execute_result"
    }
   ],
   "execution_count": 51
  },
  {
   "metadata": {
    "ExecuteTime": {
     "end_time": "2024-11-14T20:22:25.385426Z",
     "start_time": "2024-11-14T20:22:25.382172Z"
    }
   },
   "cell_type": "code",
   "source": [
    "# Add an extra dimension\n",
    "x_reshape = x.reshape(1,9)\n",
    "x_reshape"
   ],
   "id": "63a276b6cd3bb13c",
   "outputs": [
    {
     "data": {
      "text/plain": [
       "tensor([[1, 2, 3, 4, 5, 6, 7, 8, 9]])"
      ]
     },
     "execution_count": 53,
     "metadata": {},
     "output_type": "execute_result"
    }
   ],
   "execution_count": 53
  },
  {
   "metadata": {
    "ExecuteTime": {
     "end_time": "2024-11-14T19:46:45.838165Z",
     "start_time": "2024-11-14T19:46:45.834823Z"
    }
   },
   "cell_type": "code",
   "source": [
    "# Change the view\n",
    "z = x.view(1,10)\n",
    "z"
   ],
   "id": "c59de7784dc5abd0",
   "outputs": [
    {
     "data": {
      "text/plain": [
       "tensor([[1, 2, 3, 4, 5, 6, 7, 8, 9]])"
      ]
     },
     "execution_count": 34,
     "metadata": {},
     "output_type": "execute_result"
    }
   ],
   "execution_count": 34
  },
  {
   "metadata": {
    "ExecuteTime": {
     "end_time": "2024-11-14T19:48:03.938696Z",
     "start_time": "2024-11-14T19:48:03.933368Z"
    }
   },
   "cell_type": "code",
   "source": [
    "# Changing z changes x (because a view of a tensor shares the same memory as the original ones\n",
    "z[:,0]=5\n",
    "z,x"
   ],
   "id": "d9b1ebab5cf381c9",
   "outputs": [
    {
     "data": {
      "text/plain": [
       "(tensor([[5, 2, 3, 4, 5, 6, 7, 8, 9]]), tensor([5, 2, 3, 4, 5, 6, 7, 8, 9]))"
      ]
     },
     "execution_count": 35,
     "metadata": {},
     "output_type": "execute_result"
    }
   ],
   "execution_count": 35
  },
  {
   "metadata": {
    "ExecuteTime": {
     "end_time": "2024-11-14T19:55:14.754066Z",
     "start_time": "2024-11-14T19:55:14.751268Z"
    }
   },
   "cell_type": "code",
   "source": [
    "# Stack tensors on top of each other\n",
    "x_stacked_dim0 = torch.stack([x,x,x,x], dim=0)\n",
    "x_stacked_dim1 = torch.stack([x,x,x,x],dim=1)\n",
    "x_stacked_dim0,x_stacked_dim1"
   ],
   "id": "21c4b16827093e87",
   "outputs": [
    {
     "data": {
      "text/plain": [
       "(tensor([[5, 2, 3, 4, 5, 6, 7, 8, 9],\n",
       "         [5, 2, 3, 4, 5, 6, 7, 8, 9],\n",
       "         [5, 2, 3, 4, 5, 6, 7, 8, 9],\n",
       "         [5, 2, 3, 4, 5, 6, 7, 8, 9]]),\n",
       " tensor([[5, 5, 5, 5],\n",
       "         [2, 2, 2, 2],\n",
       "         [3, 3, 3, 3],\n",
       "         [4, 4, 4, 4],\n",
       "         [5, 5, 5, 5],\n",
       "         [6, 6, 6, 6],\n",
       "         [7, 7, 7, 7],\n",
       "         [8, 8, 8, 8],\n",
       "         [9, 9, 9, 9]]))"
      ]
     },
     "execution_count": 42,
     "metadata": {},
     "output_type": "execute_result"
    }
   ],
   "execution_count": 42
  },
  {
   "metadata": {
    "ExecuteTime": {
     "end_time": "2024-11-14T20:27:04.327011Z",
     "start_time": "2024-11-14T20:27:04.325011Z"
    }
   },
   "cell_type": "code",
   "source": "x_squeeze = x_reshape.squeeze()",
   "id": "2a87f8572e99da7b",
   "outputs": [],
   "execution_count": 64
  },
  {
   "metadata": {
    "ExecuteTime": {
     "end_time": "2024-11-14T20:26:47.451172Z",
     "start_time": "2024-11-14T20:26:47.448784Z"
    }
   },
   "cell_type": "code",
   "source": [
    "x_unsqueeze = x_squeeze.unsqueeze(dim=0)\n",
    "x_unsqueeze"
   ],
   "id": "892dc3f7e5d6ba7d",
   "outputs": [
    {
     "data": {
      "text/plain": [
       "tensor([[1, 2, 3, 4, 5, 6, 7, 8, 9]])"
      ]
     },
     "execution_count": 63,
     "metadata": {},
     "output_type": "execute_result"
    }
   ],
   "execution_count": 63
  },
  {
   "metadata": {
    "ExecuteTime": {
     "end_time": "2024-11-14T20:31:13.304368Z",
     "start_time": "2024-11-14T20:31:13.300134Z"
    }
   },
   "cell_type": "code",
   "source": [
    "x_original = torch.rand(size=(224,224,3)) # [height, width, color_channels]\n",
    "x_permuted = x_original.permute(2,0,1) # [color_channels, height, width]\n",
    "x_permuted.shape"
   ],
   "id": "1cfc65bc2cec7718",
   "outputs": [
    {
     "data": {
      "text/plain": [
       "torch.Size([3, 224, 224])"
      ]
     },
     "execution_count": 66,
     "metadata": {},
     "output_type": "execute_result"
    }
   ],
   "execution_count": 66
  },
  {
   "metadata": {},
   "cell_type": "markdown",
   "source": [
    "### Indexing (selecting data from tensors)\n",
    "Indexing with PyTorch is similar to indexing with Numpy"
   ],
   "id": "eb6318b958d5d169"
  },
  {
   "metadata": {
    "ExecuteTime": {
     "end_time": "2024-11-14T20:35:19.718315Z",
     "start_time": "2024-11-14T20:35:19.713930Z"
    }
   },
   "cell_type": "code",
   "source": [
    "x = torch.arange(1,10).reshape(1,3,3)\n",
    "x"
   ],
   "id": "90de37acbb14283f",
   "outputs": [
    {
     "data": {
      "text/plain": [
       "tensor([[[1, 2, 3],\n",
       "         [4, 5, 6],\n",
       "         [7, 8, 9]]])"
      ]
     },
     "execution_count": 70,
     "metadata": {},
     "output_type": "execute_result"
    }
   ],
   "execution_count": 70
  },
  {
   "metadata": {
    "ExecuteTime": {
     "end_time": "2024-11-14T20:37:32.353549Z",
     "start_time": "2024-11-14T20:37:32.349310Z"
    }
   },
   "cell_type": "code",
   "source": "x[0][1][1]",
   "id": "bf4810ae0b9f075e",
   "outputs": [
    {
     "data": {
      "text/plain": [
       "tensor(5)"
      ]
     },
     "execution_count": 76,
     "metadata": {},
     "output_type": "execute_result"
    }
   ],
   "execution_count": 76
  },
  {
   "metadata": {
    "ExecuteTime": {
     "end_time": "2024-11-14T20:38:44.834713Z",
     "start_time": "2024-11-14T20:38:44.830767Z"
    }
   },
   "cell_type": "code",
   "source": [
    "# Get all values of oth and 1st dimensions but only index 1 of 2nd deminsion\n",
    "x[:,:,1]"
   ],
   "id": "e8b18eae9e421423",
   "outputs": [
    {
     "data": {
      "text/plain": [
       "tensor([[2, 5, 8]])"
      ]
     },
     "execution_count": 78,
     "metadata": {},
     "output_type": "execute_result"
    }
   ],
   "execution_count": 78
  },
  {
   "metadata": {
    "ExecuteTime": {
     "end_time": "2024-11-14T20:40:36.446188Z",
     "start_time": "2024-11-14T20:40:36.440663Z"
    }
   },
   "cell_type": "code",
   "source": "x[0,0,:]",
   "id": "466b3be9ddac5b3c",
   "outputs": [
    {
     "data": {
      "text/plain": [
       "tensor([1, 2, 3])"
      ]
     },
     "execution_count": 80,
     "metadata": {},
     "output_type": "execute_result"
    }
   ],
   "execution_count": 80
  },
  {
   "metadata": {
    "ExecuteTime": {
     "end_time": "2024-11-14T20:47:30.333132Z",
     "start_time": "2024-11-14T20:47:30.328428Z"
    }
   },
   "cell_type": "code",
   "source": [
    "# Index on x to return 9\n",
    "print(x[:,2,2])\n",
    "\n",
    "# Index on x to return 3,6,9\n",
    "print(x[:,:,2])"
   ],
   "id": "b9da1bfae4bfe940",
   "outputs": [
    {
     "name": "stdout",
     "output_type": "stream",
     "text": [
      "tensor([9])\n",
      "tensor([[3, 6, 9]])\n"
     ]
    }
   ],
   "execution_count": 82
  },
  {
   "metadata": {
    "ExecuteTime": {
     "end_time": "2024-11-14T20:41:53.326302Z",
     "start_time": "2024-11-14T20:41:53.322333Z"
    }
   },
   "cell_type": "code",
   "source": "x",
   "id": "5b6d5a57671041ae",
   "outputs": [
    {
     "data": {
      "text/plain": [
       "tensor([[[1, 2, 3],\n",
       "         [4, 5, 6],\n",
       "         [7, 8, 9]]])"
      ]
     },
     "execution_count": 81,
     "metadata": {},
     "output_type": "execute_result"
    }
   ],
   "execution_count": 81
  },
  {
   "metadata": {},
   "cell_type": "markdown",
   "source": [
    "### PyTorch tensors & Numpy\n",
    "\n",
    "* Data in Numpy, want in PyTorch tensor -> `torch.from_numpy(ndarray)`\n",
    "* PyTorch tensor -> Nmpy -> `torch.Tensor.numpy()`"
   ],
   "id": "c4f073f5d9adb076"
  },
  {
   "metadata": {
    "ExecuteTime": {
     "end_time": "2024-11-14T21:07:34.301481Z",
     "start_time": "2024-11-14T21:07:34.294104Z"
    }
   },
   "cell_type": "code",
   "source": [
    "# Nmpy array to tensor\n",
    "import torch\n",
    "import numpy as np\n",
    "\n",
    "array = np.arange(1.0,8.0)\n",
    "tensor = torch.from_numpy(array)\n",
    "array, tensor"
   ],
   "id": "d2c12d53d0afdbbd",
   "outputs": [
    {
     "ename": "TypeError",
     "evalue": "expected np.ndarray (got numpy.ndarray)",
     "output_type": "error",
     "traceback": [
      "\u001B[0;31m---------------------------------------------------------------------------\u001B[0m",
      "\u001B[0;31mTypeError\u001B[0m                                 Traceback (most recent call last)",
      "Cell \u001B[0;32mIn[88], line 6\u001B[0m\n\u001B[1;32m      3\u001B[0m \u001B[38;5;28;01mimport\u001B[39;00m \u001B[38;5;21;01mnumpy\u001B[39;00m \u001B[38;5;28;01mas\u001B[39;00m \u001B[38;5;21;01mnp\u001B[39;00m\n\u001B[1;32m      5\u001B[0m array \u001B[38;5;241m=\u001B[39m np\u001B[38;5;241m.\u001B[39marange(\u001B[38;5;241m1.0\u001B[39m,\u001B[38;5;241m8.0\u001B[39m)\n\u001B[0;32m----> 6\u001B[0m tensor \u001B[38;5;241m=\u001B[39m torch\u001B[38;5;241m.\u001B[39mfrom_numpy(array)\n\u001B[1;32m      7\u001B[0m array, tensor\n",
      "\u001B[0;31mTypeError\u001B[0m: expected np.ndarray (got numpy.ndarray)"
     ]
    }
   ],
   "execution_count": 88
  },
  {
   "metadata": {
    "ExecuteTime": {
     "end_time": "2024-11-14T21:07:10.951677Z",
     "start_time": "2024-11-14T21:07:10.949539Z"
    }
   },
   "cell_type": "code",
   "source": "",
   "id": "1a6a2e8937cd816b",
   "outputs": [],
   "execution_count": null
  }
 ],
 "metadata": {
  "kernelspec": {
   "display_name": "Python 3",
   "language": "python",
   "name": "python3"
  },
  "language_info": {
   "codemirror_mode": {
    "name": "ipython",
    "version": 2
   },
   "file_extension": ".py",
   "mimetype": "text/x-python",
   "name": "python",
   "nbconvert_exporter": "python",
   "pygments_lexer": "ipython2",
   "version": "2.7.6"
  }
 },
 "nbformat": 4,
 "nbformat_minor": 5
}
